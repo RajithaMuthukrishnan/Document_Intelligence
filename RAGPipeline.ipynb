{
 "cells": [
  {
   "cell_type": "code",
   "execution_count": 7,
   "metadata": {},
   "outputs": [],
   "source": [
    "from bs4 import BeautifulSoup\n",
    "from langchain.schema import Document"
   ]
  },
  {
   "cell_type": "code",
   "execution_count": 2,
   "metadata": {},
   "outputs": [],
   "source": [
    "file_paths = [\"/Users/rajithamuthukrishnan/Desktop/git/datasets/1/html/0009-01.html\",\"/Users/rajithamuthukrishnan/Desktop/git/datasets/1/html/0015-01.html\"]"
   ]
  },
  {
   "cell_type": "code",
   "execution_count": 4,
   "metadata": {},
   "outputs": [
    {
     "data": {
      "text/plain": [
       "2"
      ]
     },
     "execution_count": 4,
     "metadata": {},
     "output_type": "execute_result"
    }
   ],
   "source": [
    "len(file_paths)"
   ]
  },
  {
   "cell_type": "code",
   "execution_count": 5,
   "metadata": {},
   "outputs": [],
   "source": [
    "# Extract Data and convert to LangDocs"
   ]
  },
  {
   "cell_type": "code",
   "execution_count": 8,
   "metadata": {},
   "outputs": [],
   "source": [
    "def create_lang_documents(raw_docs):\n",
    "    lang_docs = [Document(page_content=doc['body_text'], metadata={**doc['metadata']})\n",
    "       for doc in raw_docs]\n",
    "    return lang_docs\n",
    "\n",
    "def extract_case_metadata(html_content: str) -> dict:\n",
    "    soup = BeautifulSoup(html_content, \"html.parser\")\n",
    "    \n",
    "    body_text = soup.get_text(separator=\" \", strip=True)\n",
    "    # Extract - case id\n",
    "    section = soup.find(\"section\", {\"class\": \"casebody\"})\n",
    "    case_id = section.get(\"data-case-id\") if section else None\n",
    "    # Extract - case title / name\n",
    "    h4 = soup.find(\"h4\", {\"parties\"})\n",
    "    name = h4.get_text(strip=True) if h4 else None\n",
    "    # Extract - attorneys\n",
    "    attorneys = [\n",
    "        tag.get_text(strip=True) for tag in soup.find_all(\"p\",{\"class\", \"attorneys\"})\n",
    "    ]\n",
    "    # Extract - author\n",
    "    author = soup.find(\"p\",{\"class\",\"author\"}).get_text(strip=True) if soup.find(\"p\",{\"class\",\"author\"}) else None\n",
    "    \n",
    "    return {\n",
    "        \"metadata\":{\n",
    "            \"case_id\": case_id,\n",
    "            \"case_name\": name,\n",
    "            \"attorneys\": attorneys,\n",
    "            \"author\": author\n",
    "        },\n",
    "        \"body_text\": body_text\n",
    "    }\n",
    "\n",
    "def extract_data(file_list):\n",
    "    data = []\n",
    "    for file in file_list:\n",
    "        if file.endswith('.html') or file.endswith('.htm'):\n",
    "            with open(file, \"r\", encoding=\"utf-8\") as f:\n",
    "                html_content = f.read()\n",
    "                data.append(extract_case_metadata(html_content)) \n",
    "                docs = create_lang_documents(data)\n",
    "        else:\n",
    "            print(f\"Unsupported file type: {file}\") \n",
    "    return docs"
   ]
  },
  {
   "cell_type": "code",
   "execution_count": 9,
   "metadata": {},
   "outputs": [],
   "source": [
    "docs = extract_data(file_paths)"
   ]
  },
  {
   "cell_type": "code",
   "execution_count": 10,
   "metadata": {},
   "outputs": [
    {
     "data": {
      "text/plain": [
       "[Document(metadata={'case_id': 'NOTALEPH000606_0001', 'case_name': 'The Peoplevs.Smith,et al.', 'attorneys': ['O. I). SempleandJohn B. Weller,for tbe applicants, and by', 'G. J. O.Keioen, (attorney general,) for tbe people.'], 'author': 'Bennett, J.'}, page_content=\"The People vs. Smith, et al. It is too late to raise an objection to an affidavit or warrant of arrest on a criminal charge, after the examination of the prisoner has been had, and it appears that there is probable cause to suppose that he is guilty of felony, and an order of commitment has been made by the committing magistrate. So held upon an application to discharge a prisoner on habeas corpus. If it appear on the examination of a person before a committing magistrate, that the prisoner is guilty of felony, although different from that specified in the warrant of arrest, it is the duty of the officer to commit the prisoner for trial, for the offence of which he appears to be guilty. If an order of commitment be sufficient in substance, it will be held good on habeas corpus, although it contain more than is necessary to be stated therein. The unnecessary matter will be regarded as surplusage. Courts will take judicial notice of the territorial extent of the jurisdiction and sovereignty, exercised de facto by their own government, and of the local divisions of the country into states, counties, cities, towns, &c. Judges of First Instance hare jurisdiction to act as examining and committing magistrates. The justices of this court and the district judges, being made by the constitution of the state conservators of the peace, are ex vi termini, empowered to act in the apprehension and commitment of offenders. Per Bennett, J, An affidavit made upon information merely, is entitled to but little weight in any legal proceeding. Per Bennett, J. Upon a return to a writ of habeas corpus it is proper for the court to look into the depositions taken before the committing magistrate, in order to ascertain whether there is probable cause to suppose that a felony has been committed by the prisoner. *10 Where it appeared on the return to a writ of habeas corpus that there was reasonable ground to believe that the prisoners were guilty of burning certain Indian lodges in the Nappa Valley, and of killing several Indians, and perpetrating other outrages, they were, nevertheless, admitted to bail, on the grounds solely that the district courts had not as yet been organized, nor their terms fixed, nor the judges appointed, and that there was no secure place in which the prisoners could be kept until they could be brought to trial. It. seems, had not these reasons existed, the prisoners would have been remanded to the custody of the sheriff. The facts are sufficiently stated in the opinion of the court. The cause was argued by O. I). Semple and John B. Weller, for tbe applicants, and by G. J. O. Keioen, (attorney general,) for tbe people. By the Court. Bennett, J. This case comes up on tbe petition of the defendants to be discharged from, the custody of the sheriff of the district of Sonoma, under a writ of habeas corpus heretofore issued by this court. The return of the sheriff shows that the petitioners are detained by him by virtue of an order of the judge of First Instance of the distinct of Sonoma, and that such order was made upon the return of a warrant of arrest against the defendants, charging them with the commission of various felonious acts. Accompanying the return of the sheriff is also to be found a large amount of testimony taken on the examination, going to show that several Indians in the Nappa Valley were shot on the 2Ith day of February last, their lodges burned, and a considerable quantity of wheat, barley, and other property destroyed, and tending to fix tbe perpetration of these acts upon tbe petitioners. It is claimed by the counsel for the accused : 1st. That the affidavit upon which the warrant of arrest was issued, is defective. 2d. That the order of commitment is irregular and illegal. 3d. That it does not appear that any offence has been committed within the state of California. And 4th. That a judge of First Instance cannot exercise the powers, -which the officer has, in this case, assumed. These are in substance the grounds *11 upon which it is claimed that the prisoners should be discharged. First. It is claimed that the affidavit in pursuance of which the warrant was issued is defective, because it is alleged to be upon information merely. If this were so, wre should feel disposed to regard it as of but little value, for an affidavit which states no fact within the knowledge of the person making it, can be of but little weight in any legal proceeding. But we understand the affidavit in question to set forth in positive terms as within the knowledge of the deponent, the commission of the offences charged therein, and to proceed upon information as to the names only of the persons who were guilty of the perpetration of them. We think that the fact upon which the argument of counsel is based, does not exist; but even if it did, we are of opinion that it is now too late to raise the objection. The preliminary evidence upon an application for a warrant of arrest may be either by the affidavit of some person cognizant of the facts, or by his examination under oath taken by the officer ; and is for the purpose of satisfying the person to whom the application is made, that there is reason to believe that a felony or other crime has been actually committed, without which no warrant should issue; as also to prove the cause and probability of suspecting the party against whom the warrant is prayed. (4 Stephen's Comm. 356.) If in pursuance of preliminary proof charging a particular offence a warrant be issued,and the accused be brought before the magistrate, and upon examination it be found that he has been guilty of some felonious act, though different from that charged, it is nevertheless the duty of the examining officer to commit him for trial for the offence which it thus appears there is probable cause to suppose he has committed. The only period at which the defendant can avail himself of any defect in the affidavit, is previous to the examination and final order of commitment. In this case, no defects in the affidavit would authorize a discharge of the prisoner. Secondly. The objection to the several orders of commitment is, that it is required by them that the defendants stand committed to the custody of the sheriff “ till discharged by the *12 “judge of the district court of said district of Sonoma at the “nest first term of said court to be held in and for said district, “ by virtue and in pursuance of the statute laws now passed or “ which may hereafter be passed by the legislature of the state “ now in session.” It is claimed that this authorizes an indefinite imprisonment, inasmuch as the district courts are not yet organized, and the district judges not yet appointed. The order, it is true, might have been drawn up with a greater degree of formality and technical accuracy. It would have been better expressed, if it bad authorized the commitment of the defendants until discharged by due course of lawn At tbe same time, we are of opinion that the order is substantially sufficient, and can in reality wrork no prejudice to tbe prisoners; for their case will unquestionably be laid before the first grand jury, which will meet in Sonoma, and will then be disposed of. It is in effect an order of commitment for trial, authorizing the detention of the defendants until their cases can be presented before a tribunal regularly constituted, with prescribed powers, proceeding according to an established practice, and competent to pronounce a final judgment either of acquittal or conviction. In the midst of the doubts as to tbe proper limits of the jurisdiction of courts of First Instance, and the want of regularity in proceedings before them, owing to their powers and practice not being sufficiently defined by law, we cannot say that the committing officer acted illegally, or unwisely, or to the prejudice of the defendants, in requiring, in his order, their commitment until the establishment of the new system and the organization of the new’ courts. The addition to the order of the clause in relation to the laws under which the defendants may be tried by tbe district court, cannot be considered as either enlarging or diminishing the power or jurisdiction of the district court. It should be regarded as mere surplusage, which can, in no respect, vitiate—and striking this out, wTe have simply an order committing the defendants for trial at the next district court. Thirdly. It appears from the order of commitment that the offence charged was committed in “ Nappa Valley at and about “the ranch of Henry Fowler .and William Hargrave in said val- *13 “ ley.” It is not necessary that it should be stated that Kappa Yalley is in the state of California. Courts take judicial notice of the territorial extent of the jurisdiction and sovereignty, exercised defacto by their own government; and of the local divisions of their country, as into states, provinces, counties, cities, towns, or the like, so far as political government is concerned or affected. (Greenleaf on Ev. 8.) And we recognize judicially that Kappa Yalley is embraced within the territorial limits of this state, the same as we should, that San Francisco is included within its boundaries, if an offence were charged to have been committed there. Fourthly. It is claimed that a judge of First Instance cannot act as an examining and committing officer. We think otherwise. Judges of First Instance are invested with a criminal as well as a civil jurisdiction, (Art. 2, § 2, of part 2, of law of May 23, 1837, and art. 9, of same law,) and are empowered not only to try criminal causes, but also to act in the preliminary proceedings of arrest and commitment for trial. This power they have uniformly exercised since the acquisition of California by the United States government; and we deem it a part of their duties as conservators of the peace in the districts over which their jurisdiction extends. It was conceded upon the argument that they were conservators of the peace, but it was contended that the power of such officers does not extend to the arrest and commitment of persons charged with the commission of crimes. Before the institution of the office of justice of the peace in England, the public order was maintained by officers who bore the name of conservators of the peace, (4 Stephen's Comm. 37, 38;) and they were empowered to preserve the peace, to suppress riots and affrays, to take securities for the peace, and to apprehend and commit felons and other inferior criminals. (Id. 43.) The same power is conferred upon a variety of officers in England and the United States by simply declaring them by statute to be conservators of the peace ; and the constitution of this state confers the same authority in the same terms, upon the justices of this court and the district judges. Being conservators of the peace, the judges of First *14 Instance may legally act in the apprehension and commitment of offenders against the law; and the proceedings before us are not invalid upon the ground of want of jurisdiction in the officer who made the commitment. There are in addition to the views already taken of the case, reasons which render a discharge of the prisoners improper. The depositions taken before the judge of First Instance have been returned, and we think that enough appears in them to require that the defendants should be put upon their trial. It is a general rule, that upon application to bail or discharge upon habeas corpus, the court will look into the depositions, and, without regarding the regularity or irregularity of the commitment, will remand, discharge or bail the prisoner, according to the circumstances of the case. The court, in such case, pronounces no judgment, whether the facts amount to felony or not, but merely whether enough is charged to justify a detainer of the prisoner, and putting him upon his trial. Even if the commitment be regular, the court will look into the depositions, to see if there be a sufficient ground laid to detain the party in custody, and if there he not, will discharge or bail him. So, on the other hand, if the warrant of commitment be informal, they will not. discharge or bail the prisoner, without first looking into the depositions, if any be presented, to see whether there is sufficient evidence to detain him, and if the matter appear to be such as would require his detention, or his finding sureties, he will be bailed or committed accordingly, and not discharged. (1 Chitty Crim. Law, 92, 93, 94.) For these reasons, the court cannot grant the prayer of the petitioners for their discharge. If the district courts were fully organized, and their terms prescribed and known, we should, perhaps, not deem it within the proper exercise of a sound discretion to bail them; but considering the want of definite and well understood laws regulating proceedings in the existing courts of First Instance, and the uncertainty as to the time when the district courts will be ready to proceed with business, super-added to the fact that there is no jail or prison in which prisoners can be kept with security, we feel disposed to order their *15 release upon bail. The defendants must, therefore, enter into a joint recognizance with at least two good and sufficient sureties in the sum of ten thousand dollars, that they will appear and answer to any indictment which may be presented by the grand jury of the district of Sonoma for the offences charged against them in the several orders of commitment, from which they have petitioned to be discharged ; or either of them may enter into a recognizance- in the sum of three thousand dollars, with at least one good and sufficient surety, to the same effect. In either case the sureties must be approved by the judge oí First Instance of the district of Sonoma, or by one of the justices of this court, upon satisfactory proof that they are each worth double the amount specified in the recognizance over and above all debts, claims, and demands. Upon entering into such recognizance, either of the prisoners will be released from further detention. In case of failure to enter into such recognizance, they must be remanded to the custody of the sheriff of Sono-ma, to be by him kept until discharged by due course of law.\"),\n",
       " Document(metadata={'case_id': 'NOTALEPH000606_0002', 'case_name': 'Luther, respondent,vs.The Master and Owners of Ship Apollo, appellants.', 'attorneys': ['HoraceHawes, for the appellants.'], 'author': 'Hastings, Ch. J.'}, page_content=\"Luther, respondent, vs. The Master and Owners of Ship Apollo, appellants. This court has no jurisdiction of an appeal from the court of First Instance, where the judgment appealed from is for less than the sum of two hundred dollars; and •where an appeal was brought from a judgment of $166 80, it was ordered that the appeal should be dismissed with costs. The facts are sufficiently stated in the opinion of the court. The cause was argued exjyarte, by Horace Hawes, for the appellants. By the Court, Hastings, Ch. J. This was an action instituted before the court of First Instance for the district of San Francisco, for the recovery of seaman's wages, amounting to the sum of $166 *16 80, and judgment was rendered for the appellee in the sum of $100. The 4th sec. of the 6th art. of the constitution of this state, provides that, “The supreme court shall have appellate juris- “ diction in all cases where the matter in dispute exceeds two “ hundred dollars, when the legality of any tax, toll, or impost, “ or municipal fine is in question.” The matter in dispute was the recovery of $166 80, and the question is at once suggested whether this court has jurisdiction. If it had been intended by the' framers of the constitution to give this court jurisdiction in cases in which the amount in controversy was less than $200, pending before the adoption of the constitution, and the enactment of laws repealing the then existing laws, exceptions would have been incorporated into that instrument to that effect. It does not appear that the 1st, 2d, and 3d sections of the schedule will confer jurisdiction in such cases. The 1st sec. provides that, “ all laws in force at the “ time of the adoption of this constitution, and not inconsistent “ therewith, until altered or repealed by the legislature, shall con- “ tinne as if the same had not been adopted.” It seems to be inconsistent with the provision of the constitution above quoted, to entertain jurisdiction in a case where the amount in dispute is less than $200. The 3d sec. provides, among other things, that the laws relative to the duties of the several offices then existing, shall not be changed until the entering into office of the new officers to be appointed under this constitution. The justices of this court are officers appointed under the constitution, and ought not to exercise any other judicial functions than those conferred upon them by the constitution itself, and the laws of the land consistent therewith. It is therefore blit reasonable to infer, that the legislature in the 3d sec. of the act of 28th of February, intended only to transmit to this court all such appeals from the courts of First Instance, in which the amount in controversy shall exceed in value the sum of $200. It seems very doubtful whether the court of Second Instance, to which this case was appealed, could entertain jurisdiction if such a court were nowin existence. By the 12th art. of sec. 2d, part 2d, Halleck’s *17 Translation anti Digest of Mexican Laws, it is declared, “ that in the trial of causes which exceed $100, but do not exceed $200, the judges shall take cognizance by means of a written process according to law, but without appeal, except the laws have been violated which regulate the mode of proceeding.” From which we infer that the courts of First Instance, so long as they comply with the ordinary rules of practice, and do not violate the laws regulating practice in their courts, have exclusive jurisdiction in all controversies where the matter in dispute shall not exceed $200, and shall exceed $100 ; and no court can review by appeal their judgments in such cases. Entertaining these views, we do not think it our duty to encourage appeals into the supreme court of this state, when the amount in controversy is of the character presented by this re cord. The appeal, therefore, is ordered to be dismissed at the cost of the appellant. Lyons, J. concurred. Bennett, J. (dissenting.) I do not doubt that the court of Second Instance, under the Mexican system of laws, would have had jurisdiction of this appeal. It may be conceded that no appeal would lie, except where the laws had been violated, which regulate the mode of proceeding. But this appeal is brought for the very reason that the laws have been violated which regulate the mode of proceeding. Without entering into a minute examination of the different clauses of the constitution, I will merely say, that taking all the provisions which bear upon the point under consideration together, they confer upon this court appellate jurisdiction over judgments rendered in the court of First Instance, in all cases where the court of Second Instance, under the Mexican system, would have had such jurisdiction. I think that the appeal should be entertained, and dissent from the conclusion to which the majority of the court have arrived.\")]"
      ]
     },
     "execution_count": 10,
     "metadata": {},
     "output_type": "execute_result"
    }
   ],
   "source": [
    "docs"
   ]
  },
  {
   "cell_type": "markdown",
   "metadata": {},
   "source": [
    "# Summarize Docs - Individual / Global"
   ]
  },
  {
   "cell_type": "code",
   "execution_count": 11,
   "metadata": {},
   "outputs": [],
   "source": [
    "import copy\n",
    "import operator\n",
    "from typing import Annotated, List, TypedDict\n",
    "from langchain_ollama import OllamaLLM\n",
    "from langchain_core.prompts import ChatPromptTemplate\n",
    "from langchain_core.output_parsers import StrOutputParser\n",
    "from langgraph.types import Send\n",
    "from langgraph.graph import END, START, StateGraph"
   ]
  },
  {
   "cell_type": "code",
   "execution_count": 17,
   "metadata": {},
   "outputs": [],
   "source": [
    "async def summarize_docs(documents):\n",
    "    new_docs = copy.deepcopy(documents)\n",
    "    \n",
    "    llm_model = OllamaLLM(\n",
    "        model = \"mistral\"\n",
    "    )\n",
    "    \n",
    "    map_template = \"Write a concise summary based only on the context given below and not on your knowledge:\\n{context}\"\n",
    "    reduce_template = \"\"\"\n",
    "The following is a set of summaries:\n",
    "{summaries}\n",
    "Take these and distill it into a final, consolidated summary of the main themes.\n",
    "\"\"\"\n",
    "    map_prompt = ChatPromptTemplate([(\"human\"), map_template])\n",
    "    reduce_prompt = ChatPromptTemplate([(\"human\"), reduce_template])\n",
    "    \n",
    "    map_chain = map_prompt | llm_model | StrOutputParser()\n",
    "    reduce_chain = reduce_prompt | llm_model | StrOutputParser()\n",
    "    \n",
    "    # overall state of the main graph - contains the input document contents,\n",
    "    # corresponding summaries, and a final summary.\n",
    "    class OverallState(TypedDict):\n",
    "        contents: List[str]\n",
    "        summaries: Annotated[list, operator.add]\n",
    "        final_summary: str\n",
    "\n",
    "    # state of the node that will \"map\" all documents in order to generate summaries\n",
    "    class SummaryState(TypedDict):\n",
    "        content: str\n",
    "        \n",
    "    async def generate_summary(state: SummaryState):\n",
    "        response = await map_chain.ainvoke(state[\"content\"])\n",
    "        return {\"summaries\": [response]}\n",
    "\n",
    "    def map_summaries(state: OverallState):\n",
    "        return[\n",
    "            Send(\"generate_summary\", {\"content\": content}) for content in state[\"contents\"]\n",
    "        ]\n",
    "\n",
    "    async def generate_final_summary(state: OverallState):\n",
    "        response = await reduce_chain.ainvoke(state[\"summaries\"])\n",
    "        return {\"final_summary\": response}\n",
    "\n",
    "    graph = StateGraph(OverallState)\n",
    "    graph.add_node(\"generate_summary\", generate_summary)\n",
    "    graph.add_node(\"generate_final_summary\", generate_final_summary)\n",
    "    graph.add_conditional_edges(START, map_summaries, [\"generate_summary\"])\n",
    "    graph.add_edge(\"generate_summary\", \"generate_final_summary\")\n",
    "    graph.add_edge(\"generate_final_summary\", END)\n",
    "    app = graph.compile()\n",
    "    \n",
    "    results = await app.ainvoke({\"contents\": new_docs})\n",
    "    for doc, summary in zip(new_docs, results['summaries']):\n",
    "        doc.metadata['summary'] = summary\n",
    "    new_docs.append(Document(metadata={'title':'final_summary'}, page_content=results['final_summary']))\n",
    "    return new_docs"
   ]
  },
  {
   "cell_type": "code",
   "execution_count": 18,
   "metadata": {},
   "outputs": [],
   "source": [
    "summarized_docs = await summarize_docs(docs)"
   ]
  },
  {
   "cell_type": "code",
   "execution_count": 19,
   "metadata": {},
   "outputs": [
    {
     "name": "stdout",
     "output_type": "stream",
     "text": [
      "[Document(metadata={'case_id': 'NOTALEPH000606_0001', 'case_name': 'The Peoplevs.Smith,et al.', 'attorneys': ['O. I). SempleandJohn B. Weller,for tbe applicants, and by', 'G. J. O.Keioen, (attorney general,) for tbe people.'], 'author': 'Bennett, J.', 'summary': ' The case \"The People vs. Smith, et al.\" discusses the rules regarding arrest warrants, committing magistrates, and habeas corpus in California. It is established that an affidavit upon information, though not of high weight, can be used for a legal proceeding as long as it sets forth facts within the knowledge of the deponent. If a prisoner appears guilty of felony during examination before a committing magistrate, they must be committed for trial for the offence they appear guilty of, even if different from the one specified in the warrant of arrest.\\n\\nCourts can take judicial notice of their own government\\'s jurisdiction and local divisions. Judges of First Instance have the authority to act as examining and committing magistrates, and can legally act in the apprehension and commitment of offenders against the law. If it appears on the examination of a person before a committing magistrate that there is probable cause to believe a felony has been committed by the prisoner, they can be admitted to bail or remanded to custody based on the circumstances.\\n\\nIn this specific case, despite claims of defects in the affidavit and order of commitment, the court ruled that it was too late to raise these objections after the examination of the prisoner has been had and an order of commitment made. The order of commitment is substantially sufficient and can work no prejudice to the prisoners, as their case will be laid before the first grand jury and disposed of accordingly. The court ordered the defendants\\' release upon bail due to the uncertainty regarding the organization of district courts and the lack of available jails or prisons in which prisoners can be kept with security.'}, page_content=\"The People vs. Smith, et al. It is too late to raise an objection to an affidavit or warrant of arrest on a criminal charge, after the examination of the prisoner has been had, and it appears that there is probable cause to suppose that he is guilty of felony, and an order of commitment has been made by the committing magistrate. So held upon an application to discharge a prisoner on habeas corpus. If it appear on the examination of a person before a committing magistrate, that the prisoner is guilty of felony, although different from that specified in the warrant of arrest, it is the duty of the officer to commit the prisoner for trial, for the offence of which he appears to be guilty. If an order of commitment be sufficient in substance, it will be held good on habeas corpus, although it contain more than is necessary to be stated therein. The unnecessary matter will be regarded as surplusage. Courts will take judicial notice of the territorial extent of the jurisdiction and sovereignty, exercised de facto by their own government, and of the local divisions of the country into states, counties, cities, towns, &c. Judges of First Instance hare jurisdiction to act as examining and committing magistrates. The justices of this court and the district judges, being made by the constitution of the state conservators of the peace, are ex vi termini, empowered to act in the apprehension and commitment of offenders. Per Bennett, J, An affidavit made upon information merely, is entitled to but little weight in any legal proceeding. Per Bennett, J. Upon a return to a writ of habeas corpus it is proper for the court to look into the depositions taken before the committing magistrate, in order to ascertain whether there is probable cause to suppose that a felony has been committed by the prisoner. *10 Where it appeared on the return to a writ of habeas corpus that there was reasonable ground to believe that the prisoners were guilty of burning certain Indian lodges in the Nappa Valley, and of killing several Indians, and perpetrating other outrages, they were, nevertheless, admitted to bail, on the grounds solely that the district courts had not as yet been organized, nor their terms fixed, nor the judges appointed, and that there was no secure place in which the prisoners could be kept until they could be brought to trial. It. seems, had not these reasons existed, the prisoners would have been remanded to the custody of the sheriff. The facts are sufficiently stated in the opinion of the court. The cause was argued by O. I). Semple and John B. Weller, for tbe applicants, and by G. J. O. Keioen, (attorney general,) for tbe people. By the Court. Bennett, J. This case comes up on tbe petition of the defendants to be discharged from, the custody of the sheriff of the district of Sonoma, under a writ of habeas corpus heretofore issued by this court. The return of the sheriff shows that the petitioners are detained by him by virtue of an order of the judge of First Instance of the distinct of Sonoma, and that such order was made upon the return of a warrant of arrest against the defendants, charging them with the commission of various felonious acts. Accompanying the return of the sheriff is also to be found a large amount of testimony taken on the examination, going to show that several Indians in the Nappa Valley were shot on the 2Ith day of February last, their lodges burned, and a considerable quantity of wheat, barley, and other property destroyed, and tending to fix tbe perpetration of these acts upon tbe petitioners. It is claimed by the counsel for the accused : 1st. That the affidavit upon which the warrant of arrest was issued, is defective. 2d. That the order of commitment is irregular and illegal. 3d. That it does not appear that any offence has been committed within the state of California. And 4th. That a judge of First Instance cannot exercise the powers, -which the officer has, in this case, assumed. These are in substance the grounds *11 upon which it is claimed that the prisoners should be discharged. First. It is claimed that the affidavit in pursuance of which the warrant was issued is defective, because it is alleged to be upon information merely. If this were so, wre should feel disposed to regard it as of but little value, for an affidavit which states no fact within the knowledge of the person making it, can be of but little weight in any legal proceeding. But we understand the affidavit in question to set forth in positive terms as within the knowledge of the deponent, the commission of the offences charged therein, and to proceed upon information as to the names only of the persons who were guilty of the perpetration of them. We think that the fact upon which the argument of counsel is based, does not exist; but even if it did, we are of opinion that it is now too late to raise the objection. The preliminary evidence upon an application for a warrant of arrest may be either by the affidavit of some person cognizant of the facts, or by his examination under oath taken by the officer ; and is for the purpose of satisfying the person to whom the application is made, that there is reason to believe that a felony or other crime has been actually committed, without which no warrant should issue; as also to prove the cause and probability of suspecting the party against whom the warrant is prayed. (4 Stephen's Comm. 356.) If in pursuance of preliminary proof charging a particular offence a warrant be issued,and the accused be brought before the magistrate, and upon examination it be found that he has been guilty of some felonious act, though different from that charged, it is nevertheless the duty of the examining officer to commit him for trial for the offence which it thus appears there is probable cause to suppose he has committed. The only period at which the defendant can avail himself of any defect in the affidavit, is previous to the examination and final order of commitment. In this case, no defects in the affidavit would authorize a discharge of the prisoner. Secondly. The objection to the several orders of commitment is, that it is required by them that the defendants stand committed to the custody of the sheriff “ till discharged by the *12 “judge of the district court of said district of Sonoma at the “nest first term of said court to be held in and for said district, “ by virtue and in pursuance of the statute laws now passed or “ which may hereafter be passed by the legislature of the state “ now in session.” It is claimed that this authorizes an indefinite imprisonment, inasmuch as the district courts are not yet organized, and the district judges not yet appointed. The order, it is true, might have been drawn up with a greater degree of formality and technical accuracy. It would have been better expressed, if it bad authorized the commitment of the defendants until discharged by due course of lawn At tbe same time, we are of opinion that the order is substantially sufficient, and can in reality wrork no prejudice to tbe prisoners; for their case will unquestionably be laid before the first grand jury, which will meet in Sonoma, and will then be disposed of. It is in effect an order of commitment for trial, authorizing the detention of the defendants until their cases can be presented before a tribunal regularly constituted, with prescribed powers, proceeding according to an established practice, and competent to pronounce a final judgment either of acquittal or conviction. In the midst of the doubts as to tbe proper limits of the jurisdiction of courts of First Instance, and the want of regularity in proceedings before them, owing to their powers and practice not being sufficiently defined by law, we cannot say that the committing officer acted illegally, or unwisely, or to the prejudice of the defendants, in requiring, in his order, their commitment until the establishment of the new system and the organization of the new’ courts. The addition to the order of the clause in relation to the laws under which the defendants may be tried by tbe district court, cannot be considered as either enlarging or diminishing the power or jurisdiction of the district court. It should be regarded as mere surplusage, which can, in no respect, vitiate—and striking this out, wTe have simply an order committing the defendants for trial at the next district court. Thirdly. It appears from the order of commitment that the offence charged was committed in “ Nappa Valley at and about “the ranch of Henry Fowler .and William Hargrave in said val- *13 “ ley.” It is not necessary that it should be stated that Kappa Yalley is in the state of California. Courts take judicial notice of the territorial extent of the jurisdiction and sovereignty, exercised defacto by their own government; and of the local divisions of their country, as into states, provinces, counties, cities, towns, or the like, so far as political government is concerned or affected. (Greenleaf on Ev. 8.) And we recognize judicially that Kappa Yalley is embraced within the territorial limits of this state, the same as we should, that San Francisco is included within its boundaries, if an offence were charged to have been committed there. Fourthly. It is claimed that a judge of First Instance cannot act as an examining and committing officer. We think otherwise. Judges of First Instance are invested with a criminal as well as a civil jurisdiction, (Art. 2, § 2, of part 2, of law of May 23, 1837, and art. 9, of same law,) and are empowered not only to try criminal causes, but also to act in the preliminary proceedings of arrest and commitment for trial. This power they have uniformly exercised since the acquisition of California by the United States government; and we deem it a part of their duties as conservators of the peace in the districts over which their jurisdiction extends. It was conceded upon the argument that they were conservators of the peace, but it was contended that the power of such officers does not extend to the arrest and commitment of persons charged with the commission of crimes. Before the institution of the office of justice of the peace in England, the public order was maintained by officers who bore the name of conservators of the peace, (4 Stephen's Comm. 37, 38;) and they were empowered to preserve the peace, to suppress riots and affrays, to take securities for the peace, and to apprehend and commit felons and other inferior criminals. (Id. 43.) The same power is conferred upon a variety of officers in England and the United States by simply declaring them by statute to be conservators of the peace ; and the constitution of this state confers the same authority in the same terms, upon the justices of this court and the district judges. Being conservators of the peace, the judges of First *14 Instance may legally act in the apprehension and commitment of offenders against the law; and the proceedings before us are not invalid upon the ground of want of jurisdiction in the officer who made the commitment. There are in addition to the views already taken of the case, reasons which render a discharge of the prisoners improper. The depositions taken before the judge of First Instance have been returned, and we think that enough appears in them to require that the defendants should be put upon their trial. It is a general rule, that upon application to bail or discharge upon habeas corpus, the court will look into the depositions, and, without regarding the regularity or irregularity of the commitment, will remand, discharge or bail the prisoner, according to the circumstances of the case. The court, in such case, pronounces no judgment, whether the facts amount to felony or not, but merely whether enough is charged to justify a detainer of the prisoner, and putting him upon his trial. Even if the commitment be regular, the court will look into the depositions, to see if there be a sufficient ground laid to detain the party in custody, and if there he not, will discharge or bail him. So, on the other hand, if the warrant of commitment be informal, they will not. discharge or bail the prisoner, without first looking into the depositions, if any be presented, to see whether there is sufficient evidence to detain him, and if the matter appear to be such as would require his detention, or his finding sureties, he will be bailed or committed accordingly, and not discharged. (1 Chitty Crim. Law, 92, 93, 94.) For these reasons, the court cannot grant the prayer of the petitioners for their discharge. If the district courts were fully organized, and their terms prescribed and known, we should, perhaps, not deem it within the proper exercise of a sound discretion to bail them; but considering the want of definite and well understood laws regulating proceedings in the existing courts of First Instance, and the uncertainty as to the time when the district courts will be ready to proceed with business, super-added to the fact that there is no jail or prison in which prisoners can be kept with security, we feel disposed to order their *15 release upon bail. The defendants must, therefore, enter into a joint recognizance with at least two good and sufficient sureties in the sum of ten thousand dollars, that they will appear and answer to any indictment which may be presented by the grand jury of the district of Sonoma for the offences charged against them in the several orders of commitment, from which they have petitioned to be discharged ; or either of them may enter into a recognizance- in the sum of three thousand dollars, with at least one good and sufficient surety, to the same effect. In either case the sureties must be approved by the judge oí First Instance of the district of Sonoma, or by one of the justices of this court, upon satisfactory proof that they are each worth double the amount specified in the recognizance over and above all debts, claims, and demands. Upon entering into such recognizance, either of the prisoners will be released from further detention. In case of failure to enter into such recognizance, they must be remanded to the custody of the sheriff of Sono-ma, to be by him kept until discharged by due course of law.\"), Document(metadata={'case_id': 'NOTALEPH000606_0002', 'case_name': 'Luther, respondent,vs.The Master and Owners of Ship Apollo, appellants.', 'attorneys': ['HoraceHawes, for the appellants.'], 'author': 'Hastings, Ch. J.', 'summary': \" The case Luther vs. The Master and Owners of Ship Apollo revolves around an appeal for seaman's wages worth $166 80. However, since the amount in dispute is less than the constitutional requirement of $200 for appellate jurisdiction, the supreme court dismissed the appeal with costs, as it did not have jurisdiction over such cases according to the constitution of the state. The majority decision was based on the argument that if the framers of the constitution intended to give the court jurisdiction in cases where the amount in dispute was less than $200, exceptions would have been included in the constitution. Justice Bennett dissented, arguing that the appeal should be entertained as it was brought for the reason that the laws regulating the mode of proceeding were violated.\"}, page_content=\"Luther, respondent, vs. The Master and Owners of Ship Apollo, appellants. This court has no jurisdiction of an appeal from the court of First Instance, where the judgment appealed from is for less than the sum of two hundred dollars; and •where an appeal was brought from a judgment of $166 80, it was ordered that the appeal should be dismissed with costs. The facts are sufficiently stated in the opinion of the court. The cause was argued exjyarte, by Horace Hawes, for the appellants. By the Court, Hastings, Ch. J. This was an action instituted before the court of First Instance for the district of San Francisco, for the recovery of seaman's wages, amounting to the sum of $166 *16 80, and judgment was rendered for the appellee in the sum of $100. The 4th sec. of the 6th art. of the constitution of this state, provides that, “The supreme court shall have appellate juris- “ diction in all cases where the matter in dispute exceeds two “ hundred dollars, when the legality of any tax, toll, or impost, “ or municipal fine is in question.” The matter in dispute was the recovery of $166 80, and the question is at once suggested whether this court has jurisdiction. If it had been intended by the' framers of the constitution to give this court jurisdiction in cases in which the amount in controversy was less than $200, pending before the adoption of the constitution, and the enactment of laws repealing the then existing laws, exceptions would have been incorporated into that instrument to that effect. It does not appear that the 1st, 2d, and 3d sections of the schedule will confer jurisdiction in such cases. The 1st sec. provides that, “ all laws in force at the “ time of the adoption of this constitution, and not inconsistent “ therewith, until altered or repealed by the legislature, shall con- “ tinne as if the same had not been adopted.” It seems to be inconsistent with the provision of the constitution above quoted, to entertain jurisdiction in a case where the amount in dispute is less than $200. The 3d sec. provides, among other things, that the laws relative to the duties of the several offices then existing, shall not be changed until the entering into office of the new officers to be appointed under this constitution. The justices of this court are officers appointed under the constitution, and ought not to exercise any other judicial functions than those conferred upon them by the constitution itself, and the laws of the land consistent therewith. It is therefore blit reasonable to infer, that the legislature in the 3d sec. of the act of 28th of February, intended only to transmit to this court all such appeals from the courts of First Instance, in which the amount in controversy shall exceed in value the sum of $200. It seems very doubtful whether the court of Second Instance, to which this case was appealed, could entertain jurisdiction if such a court were nowin existence. By the 12th art. of sec. 2d, part 2d, Halleck’s *17 Translation anti Digest of Mexican Laws, it is declared, “ that in the trial of causes which exceed $100, but do not exceed $200, the judges shall take cognizance by means of a written process according to law, but without appeal, except the laws have been violated which regulate the mode of proceeding.” From which we infer that the courts of First Instance, so long as they comply with the ordinary rules of practice, and do not violate the laws regulating practice in their courts, have exclusive jurisdiction in all controversies where the matter in dispute shall not exceed $200, and shall exceed $100 ; and no court can review by appeal their judgments in such cases. Entertaining these views, we do not think it our duty to encourage appeals into the supreme court of this state, when the amount in controversy is of the character presented by this re cord. The appeal, therefore, is ordered to be dismissed at the cost of the appellant. Lyons, J. concurred. Bennett, J. (dissenting.) I do not doubt that the court of Second Instance, under the Mexican system of laws, would have had jurisdiction of this appeal. It may be conceded that no appeal would lie, except where the laws had been violated, which regulate the mode of proceeding. But this appeal is brought for the very reason that the laws have been violated which regulate the mode of proceeding. Without entering into a minute examination of the different clauses of the constitution, I will merely say, that taking all the provisions which bear upon the point under consideration together, they confer upon this court appellate jurisdiction over judgments rendered in the court of First Instance, in all cases where the court of Second Instance, under the Mexican system, would have had such jurisdiction. I think that the appeal should be entertained, and dissent from the conclusion to which the majority of the court have arrived.\"), Document(metadata={'title': 'final_summary'}, page_content=' The summaries discuss legal cases in California and their respective rulings on arrest warrants, habeas corpus, jurisdiction, and appellate jurisdiction. In \"The People vs. Smith, et al.\", it is established that an affidavit can be used for a legal proceeding as long as it sets forth facts within the knowledge of the deponent. If a prisoner appears guilty of felony during examination before a committing magistrate, they must be committed for trial for the offence they appear guilty of, even if different from the one specified in the warrant of arrest. Courts can take judicial notice of their own government\\'s jurisdiction and local divisions, and judges have the authority to act as examining and committing magistrates. In this specific case, the court ruled that objections regarding defects in the affidavit and order of commitment could not be raised after the examination of the prisoner has been had and an order of commitment made.\\n\\nIn \"Luther vs. The Master and Owners of Ship Apollo\", the supreme court dismissed an appeal for seaman\\'s wages worth less than $200 due to a lack of appellate jurisdiction according to the state constitution. The majority decision was based on the argument that if the framers of the constitution intended to give the court jurisdiction in cases where the amount in dispute was less than $200, exceptions would have been included in the constitution. Justice Bennett dissented, arguing that the appeal should be entertained as it was brought for the reason that the laws regulating the mode of proceeding were violated.')]\n"
     ]
    }
   ],
   "source": [
    "print(summarized_docs)"
   ]
  },
  {
   "cell_type": "code",
   "execution_count": null,
   "metadata": {},
   "outputs": [],
   "source": []
  }
 ],
 "metadata": {
  "kernelspec": {
   "display_name": "Python 3.11",
   "language": "python",
   "name": "rag_exp"
  },
  "language_info": {
   "codemirror_mode": {
    "name": "ipython",
    "version": 3
   },
   "file_extension": ".py",
   "mimetype": "text/x-python",
   "name": "python",
   "nbconvert_exporter": "python",
   "pygments_lexer": "ipython3",
   "version": "3.11.13"
  }
 },
 "nbformat": 4,
 "nbformat_minor": 4
}
