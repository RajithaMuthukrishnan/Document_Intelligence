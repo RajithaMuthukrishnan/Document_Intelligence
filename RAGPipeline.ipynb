{
 "cells": [
  {
   "cell_type": "code",
   "execution_count": 1,
   "metadata": {},
   "outputs": [],
   "source": [
    "from bs4 import BeautifulSoup\n",
    "from langchain.schema import Document"
   ]
  },
  {
   "cell_type": "code",
   "execution_count": 2,
   "metadata": {},
   "outputs": [],
   "source": [
    "file_paths = [\"/Users/rajithamuthukrishnan/Desktop/git/datasets/1/html/0009-01.html\",\"/Users/rajithamuthukrishnan/Desktop/git/datasets/1/html/0015-01.html\"]"
   ]
  },
  {
   "cell_type": "code",
   "execution_count": 3,
   "metadata": {},
   "outputs": [
    {
     "data": {
      "text/plain": [
       "2"
      ]
     },
     "execution_count": 3,
     "metadata": {},
     "output_type": "execute_result"
    }
   ],
   "source": [
    "len(file_paths)"
   ]
  },
  {
   "cell_type": "markdown",
   "metadata": {},
   "source": [
    "# Extract Data and convert to LangDocs"
   ]
  },
  {
   "cell_type": "code",
   "execution_count": 4,
   "metadata": {},
   "outputs": [],
   "source": [
    "def create_lang_documents(raw_docs):\n",
    "    lang_docs = [Document(page_content=doc['body_text'], metadata={**doc['metadata']})\n",
    "       for doc in raw_docs]\n",
    "    return lang_docs\n",
    "\n",
    "def extract_case_metadata(html_content: str) -> dict:\n",
    "    soup = BeautifulSoup(html_content, \"html.parser\")\n",
    "    \n",
    "    body_text = soup.get_text(separator=\" \", strip=True)\n",
    "    # Extract - case id\n",
    "    section = soup.find(\"section\", {\"class\": \"casebody\"})\n",
    "    case_id = section.get(\"data-case-id\") if section else None\n",
    "    # Extract - case title / name\n",
    "    h4 = soup.find(\"h4\", {\"parties\"})\n",
    "    name = h4.get_text(strip=True) if h4 else None\n",
    "    # Extract - attorneys\n",
    "    attorneys = [\n",
    "        tag.get_text(strip=True) for tag in soup.find_all(\"p\",{\"class\", \"attorneys\"})\n",
    "    ]\n",
    "    # Extract - author\n",
    "    author = soup.find(\"p\",{\"class\",\"author\"}).get_text(strip=True) if soup.find(\"p\",{\"class\",\"author\"}) else None\n",
    "    \n",
    "    return {\n",
    "        \"metadata\":{\n",
    "            \"case_id\": case_id,\n",
    "            \"case_name\": name,\n",
    "            \"attorneys\": attorneys,\n",
    "            \"author\": author\n",
    "        },\n",
    "        \"body_text\": body_text\n",
    "    }\n",
    "\n",
    "def extract_data(file_list):\n",
    "    data = []\n",
    "    for file in file_list:\n",
    "        if file.endswith('.html') or file.endswith('.htm'):\n",
    "            with open(file, \"r\", encoding=\"utf-8\") as f:\n",
    "                html_content = f.read()\n",
    "                data.append(extract_case_metadata(html_content)) \n",
    "                docs = create_lang_documents(data)\n",
    "        else:\n",
    "            print(f\"Unsupported file type: {file}\") \n",
    "    return docs"
   ]
  },
  {
   "cell_type": "code",
   "execution_count": 5,
   "metadata": {},
   "outputs": [],
   "source": [
    "docs = extract_data(file_paths)"
   ]
  },
  {
   "cell_type": "code",
   "execution_count": 21,
   "metadata": {},
   "outputs": [],
   "source": [
    "# docs"
   ]
  },
  {
   "cell_type": "markdown",
   "metadata": {},
   "source": [
    "# Summarize Docs - Individual / Global"
   ]
  },
  {
   "cell_type": "code",
   "execution_count": 11,
   "metadata": {},
   "outputs": [],
   "source": [
    "import copy\n",
    "import operator\n",
    "from typing import Annotated, List, TypedDict\n",
    "from langchain_ollama import OllamaLLM\n",
    "from langchain_core.prompts import ChatPromptTemplate\n",
    "from langchain_core.output_parsers import StrOutputParser\n",
    "from langgraph.types import Send\n",
    "from langgraph.graph import END, START, StateGraph"
   ]
  },
  {
   "cell_type": "code",
   "execution_count": 17,
   "metadata": {},
   "outputs": [],
   "source": [
    "async def summarize_docs(documents):\n",
    "    new_docs = copy.deepcopy(documents)\n",
    "    \n",
    "    llm_model = OllamaLLM(\n",
    "        model = \"mistral\"\n",
    "    )\n",
    "    \n",
    "    map_template = \"Write a concise summary based only on the context given below and not on your knowledge:\\n{context}\"\n",
    "    reduce_template = \"\"\"\n",
    "The following is a set of summaries:\n",
    "{summaries}\n",
    "Take these and distill it into a final, consolidated summary of the main themes.\n",
    "\"\"\"\n",
    "    map_prompt = ChatPromptTemplate([(\"human\"), map_template])\n",
    "    reduce_prompt = ChatPromptTemplate([(\"human\"), reduce_template])\n",
    "    \n",
    "    map_chain = map_prompt | llm_model | StrOutputParser()\n",
    "    reduce_chain = reduce_prompt | llm_model | StrOutputParser()\n",
    "    \n",
    "    # overall state of the main graph - contains the input document contents,\n",
    "    # corresponding summaries, and a final summary.\n",
    "    class OverallState(TypedDict):\n",
    "        contents: List[str]\n",
    "        summaries: Annotated[list, operator.add]\n",
    "        final_summary: str\n",
    "\n",
    "    # state of the node that will \"map\" all documents in order to generate summaries\n",
    "    class SummaryState(TypedDict):\n",
    "        content: str\n",
    "        \n",
    "    async def generate_summary(state: SummaryState):\n",
    "        response = await map_chain.ainvoke(state[\"content\"])\n",
    "        return {\"summaries\": [response]}\n",
    "\n",
    "    def map_summaries(state: OverallState):\n",
    "        return[\n",
    "            Send(\"generate_summary\", {\"content\": content}) for content in state[\"contents\"]\n",
    "        ]\n",
    "\n",
    "    async def generate_final_summary(state: OverallState):\n",
    "        response = await reduce_chain.ainvoke(state[\"summaries\"])\n",
    "        return {\"final_summary\": response}\n",
    "\n",
    "    graph = StateGraph(OverallState)\n",
    "    graph.add_node(\"generate_summary\", generate_summary)\n",
    "    graph.add_node(\"generate_final_summary\", generate_final_summary)\n",
    "    graph.add_conditional_edges(START, map_summaries, [\"generate_summary\"])\n",
    "    graph.add_edge(\"generate_summary\", \"generate_final_summary\")\n",
    "    graph.add_edge(\"generate_final_summary\", END)\n",
    "    app = graph.compile()\n",
    "    \n",
    "    results = await app.ainvoke({\"contents\": new_docs})\n",
    "    for doc, summary in zip(new_docs, results['summaries']):\n",
    "        doc.metadata['summary'] = summary\n",
    "    new_docs.append(Document(metadata={'title':'final_summary'}, page_content=results['final_summary']))\n",
    "    return new_docs"
   ]
  },
  {
   "cell_type": "code",
   "execution_count": 18,
   "metadata": {},
   "outputs": [],
   "source": [
    "summarized_docs = await summarize_docs(docs)"
   ]
  },
  {
   "cell_type": "code",
   "execution_count": 20,
   "metadata": {},
   "outputs": [],
   "source": [
    "# summarized_docs"
   ]
  },
  {
   "cell_type": "markdown",
   "metadata": {},
   "source": [
    "# QA Tool"
   ]
  },
  {
   "cell_type": "markdown",
   "metadata": {},
   "source": [
    "## Chunk docs"
   ]
  },
  {
   "cell_type": "code",
   "execution_count": 6,
   "metadata": {},
   "outputs": [],
   "source": [
    "from langchain.text_splitter import RecursiveCharacterTextSplitter"
   ]
  },
  {
   "cell_type": "code",
   "execution_count": 7,
   "metadata": {},
   "outputs": [],
   "source": [
    "text_splitter = RecursiveCharacterTextSplitter(\n",
    "    chunk_size=1000,\n",
    "    chunk_overlap=100,\n",
    "    add_start_index=True,\n",
    ")"
   ]
  },
  {
   "cell_type": "code",
   "execution_count": 8,
   "metadata": {},
   "outputs": [],
   "source": [
    "chunks = text_splitter.split_documents(docs)"
   ]
  },
  {
   "cell_type": "code",
   "execution_count": 9,
   "metadata": {},
   "outputs": [],
   "source": [
    "# chunks"
   ]
  },
  {
   "cell_type": "markdown",
   "metadata": {},
   "source": [
    "## Embed the chunks"
   ]
  },
  {
   "cell_type": "code",
   "execution_count": 10,
   "metadata": {},
   "outputs": [],
   "source": [
    "from langchain_ollama import OllamaEmbeddings\n",
    "from langchain_community.vectorstores import FAISS"
   ]
  },
  {
   "cell_type": "code",
   "execution_count": 11,
   "metadata": {},
   "outputs": [],
   "source": [
    "embedding = OllamaEmbeddings(\n",
    "    model = \"all-minilm:l6-v2\",\n",
    ")\n",
    "\n",
    "faiss_vectorstore = FAISS.from_documents(chunks, embedding)"
   ]
  },
  {
   "cell_type": "code",
   "execution_count": 12,
   "metadata": {},
   "outputs": [],
   "source": [
    "embedded_query=embedding.embed_query(\"Who is Bennet J?\")"
   ]
  },
  {
   "cell_type": "code",
   "execution_count": 13,
   "metadata": {},
   "outputs": [
    {
     "data": {
      "text/plain": [
       "[Document(id='0fb31cb7-324f-47ea-9950-e695b6f2ee18', metadata={'case_id': 'NOTALEPH000606_0001', 'case_name': 'The Peoplevs.Smith,et al.', 'attorneys': ['O. I). SempleandJohn B. Weller,for tbe applicants, and by', 'G. J. O.Keioen, (attorney general,) for tbe people.'], 'author': 'Bennett, J.', 'start_index': 2703}, page_content='comes up on tbe petition of the defendants to be discharged from, the custody of the sheriff of the district of Sonoma, under a writ of habeas corpus heretofore issued by this court. The return of the sheriff shows that the petitioners are detained by him by virtue of an order of the judge of First Instance of the distinct of Sonoma, and that such order was made upon the return of a warrant of arrest against the defendants, charging them with the commission of various felonious acts. Accompanying the return of the sheriff is also to be found a large amount of testimony taken on the examination, going to show that several Indians in the Nappa Valley were shot on the 2Ith day of February last, their lodges burned, and a considerable quantity of wheat, barley, and other property destroyed, and tending to fix tbe perpetration of these acts upon tbe petitioners. It is claimed by the counsel for the accused : 1st. That the affidavit upon which the warrant of arrest was issued, is defective.'),\n",
       " Document(id='348a74df-ee21-43fb-8608-c59125470eb8', metadata={'case_id': 'NOTALEPH000606_0001', 'case_name': 'The Peoplevs.Smith,et al.', 'attorneys': ['O. I). SempleandJohn B. Weller,for tbe applicants, and by', 'G. J. O.Keioen, (attorney general,) for tbe people.'], 'author': 'Bennett, J.', 'start_index': 1800}, page_content='by the prisoner. *10 Where it appeared on the return to a writ of habeas corpus that there was reasonable ground to believe that the prisoners were guilty of burning certain Indian lodges in the Nappa Valley, and of killing several Indians, and perpetrating other outrages, they were, nevertheless, admitted to bail, on the grounds solely that the district courts had not as yet been organized, nor their terms fixed, nor the judges appointed, and that there was no secure place in which the prisoners could be kept until they could be brought to trial. It. seems, had not these reasons existed, the prisoners would have been remanded to the custody of the sheriff. The facts are sufficiently stated in the opinion of the court. The cause was argued by O. I). Semple and John B. Weller, for tbe applicants, and by G. J. O. Keioen, (attorney general,) for tbe people. By the Court. Bennett, J. This case comes up on tbe petition of the defendants to be discharged from, the custody of the sheriff of')]"
      ]
     },
     "execution_count": 13,
     "metadata": {},
     "output_type": "execute_result"
    }
   ],
   "source": [
    "faiss_vectorstore.similarity_search_by_vector(\n",
    "    embedded_query,\n",
    "    k=2\n",
    ")"
   ]
  },
  {
   "cell_type": "code",
   "execution_count": 14,
   "metadata": {},
   "outputs": [
    {
     "data": {
      "text/plain": [
       "[Document(id='0fb31cb7-324f-47ea-9950-e695b6f2ee18', metadata={'case_id': 'NOTALEPH000606_0001', 'case_name': 'The Peoplevs.Smith,et al.', 'attorneys': ['O. I). SempleandJohn B. Weller,for tbe applicants, and by', 'G. J. O.Keioen, (attorney general,) for tbe people.'], 'author': 'Bennett, J.', 'start_index': 2703}, page_content='comes up on tbe petition of the defendants to be discharged from, the custody of the sheriff of the district of Sonoma, under a writ of habeas corpus heretofore issued by this court. The return of the sheriff shows that the petitioners are detained by him by virtue of an order of the judge of First Instance of the distinct of Sonoma, and that such order was made upon the return of a warrant of arrest against the defendants, charging them with the commission of various felonious acts. Accompanying the return of the sheriff is also to be found a large amount of testimony taken on the examination, going to show that several Indians in the Nappa Valley were shot on the 2Ith day of February last, their lodges burned, and a considerable quantity of wheat, barley, and other property destroyed, and tending to fix tbe perpetration of these acts upon tbe petitioners. It is claimed by the counsel for the accused : 1st. That the affidavit upon which the warrant of arrest was issued, is defective.'),\n",
       " Document(id='348a74df-ee21-43fb-8608-c59125470eb8', metadata={'case_id': 'NOTALEPH000606_0001', 'case_name': 'The Peoplevs.Smith,et al.', 'attorneys': ['O. I). SempleandJohn B. Weller,for tbe applicants, and by', 'G. J. O.Keioen, (attorney general,) for tbe people.'], 'author': 'Bennett, J.', 'start_index': 1800}, page_content='by the prisoner. *10 Where it appeared on the return to a writ of habeas corpus that there was reasonable ground to believe that the prisoners were guilty of burning certain Indian lodges in the Nappa Valley, and of killing several Indians, and perpetrating other outrages, they were, nevertheless, admitted to bail, on the grounds solely that the district courts had not as yet been organized, nor their terms fixed, nor the judges appointed, and that there was no secure place in which the prisoners could be kept until they could be brought to trial. It. seems, had not these reasons existed, the prisoners would have been remanded to the custody of the sheriff. The facts are sufficiently stated in the opinion of the court. The cause was argued by O. I). Semple and John B. Weller, for tbe applicants, and by G. J. O. Keioen, (attorney general,) for tbe people. By the Court. Bennett, J. This case comes up on tbe petition of the defendants to be discharged from, the custody of the sheriff of')]"
      ]
     },
     "execution_count": 14,
     "metadata": {},
     "output_type": "execute_result"
    }
   ],
   "source": [
    "faiss_vectorstore.similarity_search(\n",
    "    \"Who is Bennet J\",\n",
    "    k=2\n",
    ")"
   ]
  },
  {
   "cell_type": "markdown",
   "metadata": {},
   "source": [
    "## Q&A : with LLM"
   ]
  },
  {
   "cell_type": "code",
   "execution_count": 16,
   "metadata": {},
   "outputs": [],
   "source": [
    "from langchain_core.prompts import ChatPromptTemplate\n",
    "from typing_extensions import List, TypedDict\n",
    "from langgraph.graph import START, StateGraph\n",
    "from langchain_ollama import OllamaLLM\n",
    "# from langgraph.checkpoint.memory import MemorySaver\n",
    "# from langgraph.graph import MessageState"
   ]
  },
  {
   "cell_type": "code",
   "execution_count": 20,
   "metadata": {},
   "outputs": [],
   "source": [
    "# Goes in _init()\n",
    "qa_prompt = ChatPromptTemplate.from_template(\"\"\"Answer the following question based only on the provided context:\n",
    "    <context>\n",
    "    {context}\n",
    "    </context>\n",
    "    Question: {question}\"\"\")\n",
    "\n",
    "llm_model = OllamaLLM(\n",
    "        model = \"mistral\"\n",
    "    )\n",
    "\n",
    "class State(TypedDict):\n",
    "    question: str\n",
    "    context: List[Document]\n",
    "    answer: str\n",
    "              \n",
    "def retrieve(state: State):\n",
    "    retrieved_docs = faiss_vectorstore.similarity_search(state['question'])\n",
    "    return {'context': retrieved_docs}\n",
    "\n",
    "def generate(state: State):\n",
    "    retrieved_docs_content = '\\n\\n'.join(doc.page_content for doc in state['context'])\n",
    "    messages = qa_prompt.invoke({\"question\": state['question'], \"context\": retrieved_docs_content})\n",
    "    response = llm_model.invoke(messages)\n",
    "    return {'answer': response}\n",
    "\n",
    "# Compile application and test\n",
    "qa_workflow_builder = StateGraph(State).add_sequence([retrieve, generate])\n",
    "qa_workflow_builder.add_edge(START, \"retrieve\")\n",
    "qa_workflow = qa_workflow_builder.compile()"
   ]
  },
  {
   "cell_type": "code",
   "execution_count": 21,
   "metadata": {},
   "outputs": [],
   "source": [
    "def ask_llm(question):\n",
    "    response = qa_workflow.invoke({\"question\": question})\n",
    "    return response"
   ]
  },
  {
   "cell_type": "code",
   "execution_count": 22,
   "metadata": {},
   "outputs": [],
   "source": [
    "qa_response = ask_llm(\"Who is Bennet J?\")"
   ]
  },
  {
   "cell_type": "code",
   "execution_count": 24,
   "metadata": {},
   "outputs": [
    {
     "data": {
      "text/plain": [
       "' Based on the provided context, it appears that Bennet J. is a judge, as he is mentioned as delivering the opinion in the case discussed in the text.'"
      ]
     },
     "execution_count": 24,
     "metadata": {},
     "output_type": "execute_result"
    }
   ],
   "source": [
    "qa_response['answer']"
   ]
  },
  {
   "cell_type": "code",
   "execution_count": 25,
   "metadata": {},
   "outputs": [
    {
     "data": {
      "text/plain": [
       "[Document(id='0fb31cb7-324f-47ea-9950-e695b6f2ee18', metadata={'case_id': 'NOTALEPH000606_0001', 'case_name': 'The Peoplevs.Smith,et al.', 'attorneys': ['O. I). SempleandJohn B. Weller,for tbe applicants, and by', 'G. J. O.Keioen, (attorney general,) for tbe people.'], 'author': 'Bennett, J.', 'start_index': 2703}, page_content='comes up on tbe petition of the defendants to be discharged from, the custody of the sheriff of the district of Sonoma, under a writ of habeas corpus heretofore issued by this court. The return of the sheriff shows that the petitioners are detained by him by virtue of an order of the judge of First Instance of the distinct of Sonoma, and that such order was made upon the return of a warrant of arrest against the defendants, charging them with the commission of various felonious acts. Accompanying the return of the sheriff is also to be found a large amount of testimony taken on the examination, going to show that several Indians in the Nappa Valley were shot on the 2Ith day of February last, their lodges burned, and a considerable quantity of wheat, barley, and other property destroyed, and tending to fix tbe perpetration of these acts upon tbe petitioners. It is claimed by the counsel for the accused : 1st. That the affidavit upon which the warrant of arrest was issued, is defective.'),\n",
       " Document(id='348a74df-ee21-43fb-8608-c59125470eb8', metadata={'case_id': 'NOTALEPH000606_0001', 'case_name': 'The Peoplevs.Smith,et al.', 'attorneys': ['O. I). SempleandJohn B. Weller,for tbe applicants, and by', 'G. J. O.Keioen, (attorney general,) for tbe people.'], 'author': 'Bennett, J.', 'start_index': 1800}, page_content='by the prisoner. *10 Where it appeared on the return to a writ of habeas corpus that there was reasonable ground to believe that the prisoners were guilty of burning certain Indian lodges in the Nappa Valley, and of killing several Indians, and perpetrating other outrages, they were, nevertheless, admitted to bail, on the grounds solely that the district courts had not as yet been organized, nor their terms fixed, nor the judges appointed, and that there was no secure place in which the prisoners could be kept until they could be brought to trial. It. seems, had not these reasons existed, the prisoners would have been remanded to the custody of the sheriff. The facts are sufficiently stated in the opinion of the court. The cause was argued by O. I). Semple and John B. Weller, for tbe applicants, and by G. J. O. Keioen, (attorney general,) for tbe people. By the Court. Bennett, J. This case comes up on tbe petition of the defendants to be discharged from, the custody of the sheriff of'),\n",
       " Document(id='32c4aa1d-e73d-4da6-aa1b-fe12b88659c2', metadata={'case_id': 'NOTALEPH000606_0001', 'case_name': 'The Peoplevs.Smith,et al.', 'attorneys': ['O. I). SempleandJohn B. Weller,for tbe applicants, and by', 'G. J. O.Keioen, (attorney general,) for tbe people.'], 'author': 'Bennett, J.', 'start_index': 8097}, page_content='be tried by tbe district court, cannot be considered as either enlarging or diminishing the power or jurisdiction of the district court. It should be regarded as mere surplusage, which can, in no respect, vitiate—and striking this out, wTe have simply an order committing the defendants for trial at the next district court. Thirdly. It appears from the order of commitment that the offence charged was committed in “ Nappa Valley at and about “the ranch of Henry Fowler .and William Hargrave in said val- *13 “ ley.” It is not necessary that it should be stated that Kappa Yalley is in the state of California. Courts take judicial notice of the territorial extent of the jurisdiction and sovereignty, exercised defacto by their own government; and of the local divisions of their country, as into states, provinces, counties, cities, towns, or the like, so far as political government is concerned or affected. (Greenleaf on Ev. 8.) And we recognize judicially that Kappa Yalley is embraced within'),\n",
       " Document(id='36fe9696-55ea-4930-a4fd-000aa86f19ff', metadata={'case_id': 'NOTALEPH000606_0002', 'case_name': 'Luther, respondent,vs.The Master and Owners of Ship Apollo, appellants.', 'attorneys': ['HoraceHawes, for the appellants.'], 'author': 'Hastings, Ch. J.', 'start_index': 1805}, page_content='shall con- “ tinne as if the same had not been adopted.” It seems to be inconsistent with the provision of the constitution above quoted, to entertain jurisdiction in a case where the amount in dispute is less than $200. The 3d sec. provides, among other things, that the laws relative to the duties of the several offices then existing, shall not be changed until the entering into office of the new officers to be appointed under this constitution. The justices of this court are officers appointed under the constitution, and ought not to exercise any other judicial functions than those conferred upon them by the constitution itself, and the laws of the land consistent therewith. It is therefore blit reasonable to infer, that the legislature in the 3d sec. of the act of 28th of February, intended only to transmit to this court all such appeals from the courts of First Instance, in which the amount in controversy shall exceed in value the sum of $200. It seems very doubtful whether the')]"
      ]
     },
     "execution_count": 25,
     "metadata": {},
     "output_type": "execute_result"
    }
   ],
   "source": [
    "qa_response['context']"
   ]
  }
 ],
 "metadata": {
  "kernelspec": {
   "display_name": "Python 3.11",
   "language": "python",
   "name": "rag_exp"
  },
  "language_info": {
   "codemirror_mode": {
    "name": "ipython",
    "version": 3
   },
   "file_extension": ".py",
   "mimetype": "text/x-python",
   "name": "python",
   "nbconvert_exporter": "python",
   "pygments_lexer": "ipython3",
   "version": "3.11.13"
  }
 },
 "nbformat": 4,
 "nbformat_minor": 4
}
