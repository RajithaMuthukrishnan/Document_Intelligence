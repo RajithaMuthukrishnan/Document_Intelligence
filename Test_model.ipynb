{
 "cells": [
  {
   "cell_type": "code",
   "execution_count": 1,
   "metadata": {},
   "outputs": [],
   "source": [
    "from langchain_ollama import OllamaLLM"
   ]
  },
  {
   "cell_type": "code",
   "execution_count": 2,
   "metadata": {},
   "outputs": [],
   "source": [
    "llm = OllamaLLM(\n",
    "    model = \"mistral\",\n",
    ")"
   ]
  },
  {
   "cell_type": "code",
   "execution_count": 3,
   "metadata": {},
   "outputs": [],
   "source": [
    "input_text = \"The meaning of life is\"\n",
    "response = llm.invoke(input_text)"
   ]
  },
  {
   "cell_type": "code",
   "execution_count": 6,
   "metadata": {},
   "outputs": [
    {
     "data": {
      "text/plain": [
       "\" Philosophically, the meaning of life has been a topic of discussion for centuries. Many philosophers and thinkers have proposed different perspectives on this question. Some believe that life's purpose is to seek happiness, knowledge, or personal fulfillment. Others argue that life has no inherent meaning, and it's up to each individual to create their own purpose.\\n\\nReligion often provides answers to the meaning of life, such as serving a higher power or striving for spiritual enlightenment. Some scientists suggest that life's meaning could be found in evolution and the pursuit of understanding the universe.\\n\\nUltimately, the meaning of life may be a deeply personal and subjective concept, and each person might find their own unique answer to this question based on their experiences, beliefs, and values.\""
      ]
     },
     "execution_count": 6,
     "metadata": {},
     "output_type": "execute_result"
    }
   ],
   "source": [
    "response"
   ]
  },
  {
   "cell_type": "code",
   "execution_count": 26,
   "metadata": {},
   "outputs": [],
   "source": [
    "from langchain_community.document_loaders import JSONLoader\n",
    "\n",
    "loader = JSONLoader(\n",
    "    file_path=\"../datasets/1/json/0009-01.json\",\n",
    "#     jq_schema=\".messages[].content\",\n",
    "    jq_schema=\".name\"\n",
    "#     text_content=False,\n",
    ")"
   ]
  },
  {
   "cell_type": "code",
   "execution_count": 27,
   "metadata": {},
   "outputs": [],
   "source": [
    "docs = loader.load()"
   ]
  },
  {
   "cell_type": "code",
   "execution_count": 28,
   "metadata": {},
   "outputs": [
    {
     "data": {
      "text/plain": [
       "[Document(metadata={'source': '/Users/rajithamuthukrishnan/Desktop/git/datasets/1/json/0009-01.json', 'seq_num': 1}, page_content='The People vs. Smith, et al.')]"
      ]
     },
     "execution_count": 28,
     "metadata": {},
     "output_type": "execute_result"
    }
   ],
   "source": [
    "docs"
   ]
  },
  {
   "cell_type": "markdown",
   "metadata": {},
   "source": [
    "## Using BS4"
   ]
  },
  {
   "cell_type": "code",
   "execution_count": 1,
   "metadata": {},
   "outputs": [],
   "source": [
    "from bs4 import BeautifulSoup"
   ]
  },
  {
   "cell_type": "code",
   "execution_count": 8,
   "metadata": {},
   "outputs": [],
   "source": [
    "file_path = \"../datasets/1/html/0009-01.html\"\n",
    "with open(file_path, \"r\", encoding=\"utf-8\") as fp:\n",
    "    soup = BeautifulSoup(fp, 'html.parser')\n",
    "    data = soup.get_text(separator=\" \")"
   ]
  },
  {
   "cell_type": "code",
   "execution_count": 9,
   "metadata": {},
   "outputs": [
    {
     "data": {
      "text/plain": [
       "\"\\n \\n The People  vs.  Smith,  et al. \\n \\n It is too late to raise an objection to an affidavit or warrant of arrest on a criminal charge, after the examination of the prisoner has been had, and it appears that there is probable cause to suppose that he is guilty of felony, and an order of commitment has been made by the committing magistrate. So held upon an application to discharge a prisoner on  habeas corpus. \\n \\n If it appear on the examination of a person before a committing magistrate, that the prisoner is guilty of felony, although different from that specified in the warrant of arrest, it is the duty of the officer to commit the prisoner for trial, for the offence of which he appears to be guilty. \\n If an order of commitment be sufficient in substance, it will be held good on  habeas  corpus, although it contain more than is necessary to be stated therein. The unnecessary matter will be regarded as surplusage. \\n Courts will take judicial notice of the territorial extent of the jurisdiction and sovereignty, exercised  de facto  by their own government, and of the local divisions of the country into states, counties, cities, towns, &c. \\n Judges of First Instance hare jurisdiction to act as examining and committing magistrates. \\n The justices of this court and the district judges, being made by the constitution of the state conservators of the peace, are  ex vi  termini, empowered to act in the apprehension and commitment of offenders.  Per  Bennett, J, \\n An affidavit made upon information merely, is entitled to but little weight in any legal proceeding.  Per  Bennett, J. \\n Upon a return to a writ of  habeas corpus  it is proper for the court to look into the depositions taken before the committing magistrate, in order to ascertain whether there is probable cause to suppose that a felony has been committed by the prisoner. \\n \\n *10 Where it appeared on the return to a writ of  habeas corpus  that there was reasonable ground to believe that the prisoners were guilty of burning certain Indian lodges in the Nappa Valley, and of killing several Indians, and perpetrating other outrages, they were, nevertheless, admitted to bail, on the grounds solely that the district courts had not as yet been organized, nor their terms fixed, nor the judges appointed, and that there was no secure place in which the prisoners could be kept until they could be brought to trial.  It. seems,  had not these reasons existed, the prisoners would have been remanded to the custody of the sheriff. \\n The facts are sufficiently stated in the opinion of the court. The cause was argued by \\n \\n O. I). Semple  and  John B. Weller,  for tbe applicants, and by \\n \\n G. J. O.  Keioen, (attorney general,) for tbe people. \\n \\n \\n \\n By the Court. \\n \\n Bennett, J. \\n This case comes up on tbe petition of the defendants to be discharged from, the custody of the sheriff of the district of Sonoma, under a writ of  habeas corpus  heretofore issued by this court. The return of the sheriff shows that the petitioners are detained by him by virtue of an order of the judge of First Instance of the distinct of Sonoma, and that such order was made upon the return of a warrant of arrest against the defendants, charging them with the commission of various felonious acts. Accompanying the return of the sheriff is also to be found a large amount of testimony taken on the examination, going to show that several Indians in the Nappa Valley were shot on the 2Ith day of February last, their lodges burned, and a considerable quantity of wheat, barley, and other property destroyed, and tending to fix tbe perpetration of these acts upon tbe petitioners. \\n It is claimed by the counsel for the accused : 1st. That the affidavit upon which the warrant of arrest was issued, is defective. 2d. That the order of commitment is irregular and illegal. 3d. That it does not appear that any offence has been committed within the state of California. And 4th. That a judge of First Instance cannot exercise the powers, -which the officer has, in this case, assumed. These are in substance the grounds  *11 upon which it is claimed that the prisoners should be discharged. \\n First. It is claimed that the affidavit in pursuance of which the warrant was issued is defective, because it is alleged to be upon information merely. If this were so, wre should feel disposed to regard it as of but little value, for an affidavit which states no fact within the  knowledge  of the person making it, can be of but little weight in any legal proceeding. But we understand the affidavit in question to set forth in positive terms as within the knowledge of the deponent, the commission of the offences charged therein, and to proceed upon information as to the  names  only of the persons who were guilty of the perpetration of them. We think that the fact upon which the argument of counsel is based, does not exist; but even if it did, we are of opinion that it is now too late to raise the objection. The preliminary evidence upon an application for a warrant of arrest may be either by the affidavit of some person cognizant of the facts, or by his examination under oath taken by the officer ; and is for the purpose of satisfying the person to whom the application is made, that there is reason to believe that a felony or other crime has been actually committed, without which no warrant should issue; as also to prove the cause and probability of suspecting the party against whom the warrant is prayed. (4  Stephen's Comm.  356.) If in pursuance of preliminary proof charging a particular offence a warrant be issued,and the accused be brought before the magistrate, and upon examination it be found that he has been guilty of some felonious act, though different from that charged, it is nevertheless the duty of the examining officer to commit him for trial for the offence which it thus appears there is probable cause to suppose he has committed. The only period at which the defendant can avail himself of any defect in the affidavit, is previous to the examination and final order of commitment. In this case, no defects in the affidavit would authorize a discharge of the prisoner. \\n Secondly. The objection to the several orders of commitment is, that it is required by them that the defendants stand committed to the custody of the sheriff “ till discharged by the  *12 “judge of the district court of said district of Sonoma at the “nest first term of said court to be held in and for said district, “ by virtue and in pursuance of the statute laws now passed or “ which may hereafter be passed by the legislature of the state “ now in session.” It is claimed that this authorizes an indefinite imprisonment, inasmuch as the district courts are not yet organized, and the district judges not yet appointed. The order, it is true, might have been drawn up with a greater degree of formality and technical accuracy. It would have been better expressed, if it bad authorized the commitment of the defendants until discharged by due course of lawn At tbe same time, we are of opinion that the order is substantially sufficient, and can in reality wrork no prejudice to tbe prisoners; for their case will unquestionably be laid before the first grand jury, which will meet in Sonoma, and will then be disposed of. It is in effect an order of commitment for trial, authorizing the detention of the defendants until their cases can be presented before a tribunal regularly constituted, with prescribed powers, proceeding according to an established practice, and competent to pronounce a final judgment either of acquittal or conviction. In the midst of the doubts as to tbe proper limits of the jurisdiction of courts of First Instance, and the want of regularity in proceedings before them, owing to their powers and practice not being sufficiently defined by law, we cannot say that the committing officer acted illegally, or unwisely, or to the prejudice of the defendants, in requiring, in his order, their commitment until the establishment of the new system and the organization of the new’ courts. The addition to the order of the clause in relation to the laws under which the defendants may be tried by tbe district court, cannot be considered as either enlarging or diminishing the power or jurisdiction of the district court. It should be regarded as mere surplusage, which can, in no respect, vitiate—and striking this out, wTe have simply an order committing the defendants for trial at the next district court. \\n Thirdly. It appears from the order of commitment that the offence charged was committed in “ Nappa Valley at and about “the ranch of Henry Fowler .and William Hargrave in said val-  *13 “ ley.” It is not necessary that it should be stated that Kappa Yalley is in the state of California. Courts take judicial notice of the territorial extent of the jurisdiction and sovereignty, exercised  defacto  by their own government; and of the local divisions of their country, as into states, provinces, counties, cities, towns, or the like, so far as political government is concerned or affected.  (Greenleaf on Ev.  8.) And we recognize judicially that Kappa Yalley is embraced within the territorial limits of this state, the same as we should, that San Francisco is included within its boundaries, if an offence were charged to have been committed there. \\n Fourthly. It is claimed that a judge of First Instance cannot act as an examining and committing officer.  We  think otherwise. Judges of First Instance are invested with a criminal as well as a civil jurisdiction,  (Art.  2, § 2,  of part  2,  of law of May  23, 1837,  and art.  9,  of same law,)  and are empowered not only to try criminal causes, but also to act in the preliminary proceedings of arrest and commitment for trial. This power they have uniformly exercised since the acquisition of California by the United States government; and we deem it a part of their duties as conservators of the peace in the districts over which their jurisdiction extends. It was conceded upon the argument that they were conservators of the peace, but it was contended that the power of such officers does not extend to the arrest and commitment of persons charged with the commission of crimes. Before the institution of the office of justice of the peace in England, the public order was maintained by officers who bore the name of conservators of the peace, (4  Stephen's Comm.  37, 38;) and they were empowered to preserve the peace, to suppress riots and affrays, to take securities for the peace, and to  apprehend and commit  felons and other inferior criminals.  (Id.  43.) The same power is conferred upon a variety of officers in England and the United States by simply declaring them by statute to be conservators of the peace ; and the constitution of this state confers the same authority in the same terms, upon the justices of this court and the district judges. Being conservators of the peace, the judges of First  *14 Instance may legally act in the apprehension and commitment of offenders against the law; and the proceedings before us are not invalid upon the ground of want of jurisdiction in the officer who made the commitment. \\n There are in addition to the views already taken of the case, reasons which render a discharge of the prisoners improper. The depositions taken before the judge of First Instance have been returned, and we think that enough appears in them to require that the defendants should be put upon their trial. It is a general rule, that upon application to bail or discharge upon  habeas corpus,  the court will look into the depositions, and, without regarding the regularity or irregularity of the commitment, will remand, discharge or bail the prisoner, according to the circumstances of the case. The court, in such case, pronounces no judgment, whether the facts amount to felony or not, but merely whether enough is charged to justify a detainer of the prisoner, and putting him upon his trial. Even if the commitment be regular, the court will look into the depositions, to see if there be a sufficient ground laid to detain the party in custody, and if there he not, will discharge or bail him. So, on the other hand, if the warrant of commitment be informal, they will not. discharge or bail the prisoner, without first looking into the depositions, if any be presented, to see whether there is sufficient evidence to detain him, and if the matter appear to be such as would require his detention, or his finding sureties, he will be bailed or committed accordingly, and not discharged. (1  Chitty Crim.  Law, 92, 93, 94.) \\n For these reasons, the court cannot grant the prayer of the petitioners for their discharge. If the district courts were fully organized, and their terms prescribed and known, we should, perhaps, not deem it within the proper exercise of a sound discretion to bail them; but considering the want of definite and well understood laws regulating proceedings in the existing courts of First Instance, and the uncertainty as to the time when the district courts will be ready to proceed with business, super-added to the fact that there is no jail or prison in which prisoners can be kept with security, we feel disposed to order their  *15 release upon bail. The defendants must, therefore, enter into a joint recognizance with at least two good and sufficient sureties in the sum of ten thousand dollars, that they will appear and answer to any indictment which may be presented by the grand jury of the district of Sonoma for the offences charged against them in the several orders of commitment, from which they have petitioned to be discharged ; or either of them may enter into a recognizance- in the sum of three thousand dollars, with at least one good and sufficient surety, to the same effect. In either case the sureties must be approved by the judge oí First Instance of the district of Sonoma, or by one of the justices of this court, upon satisfactory proof that they are each worth double the amount specified in the recognizance over and above all debts, claims, and demands. Upon entering into such recognizance, either of the prisoners will be released from further detention. In case of failure to enter into such recognizance, they must be remanded to the custody of the sheriff of Sono-ma, to be by him kept until discharged by due course of law. \\n \\n\""
      ]
     },
     "execution_count": 9,
     "metadata": {},
     "output_type": "execute_result"
    }
   ],
   "source": [
    "data"
   ]
  },
  {
   "cell_type": "markdown",
   "metadata": {},
   "source": [
    "### Using Unstructured"
   ]
  },
  {
   "cell_type": "code",
   "execution_count": 29,
   "metadata": {},
   "outputs": [
    {
     "name": "stdout",
     "output_type": "stream",
     "text": [
      "[Document(metadata={'source': '../datasets/1/html/0009-01.html'}, page_content=\"The People vs. Smith, et al.\\n\\nIt is too late to raise an objection to an affidavit or warrant of arrest on a criminal charge, after the examination of the prisoner has been had, and it appears that there is probable cause to suppose that he is guilty of felony, and an order of commitment has been made by the committing magistrate. So held upon an application to discharge a prisoner on habeas corpus.\\n\\nIf it appear on the examination of a person before a committing magistrate, that the prisoner is guilty of felony, although different from that specified in the warrant of arrest, it is the duty of the officer to commit the prisoner for trial, for the offence of which he appears to be guilty.\\n\\nIf an order of commitment be sufficient in substance, it will be held good on habeas corpus, although it contain more than is necessary to be stated therein. The unnecessary matter will be regarded as surplusage.\\n\\nCourts will take judicial notice of the territorial extent of the jurisdiction and sovereignty, exercised de facto by their own government, and of the local divisions of the country into states, counties, cities, towns, &c.\\n\\nJudges of First Instance hare jurisdiction to act as examining and committing magistrates.\\n\\nThe justices of this court and the district judges, being made by the constitution of the state conservators of the peace, are ex vi termini, empowered to act in the apprehension and commitment of offenders. Per Bennett, J,\\n\\nAn affidavit made upon information merely, is entitled to but little weight in any legal proceeding. Per Bennett, J.\\n\\nUpon a return to a writ of habeas corpus it is proper for the court to look into the depositions taken before the committing magistrate, in order to ascertain whether there is probable cause to suppose that a felony has been committed by the prisoner.\\n\\n10Where it appeared on the return to a writ of habeas corpus that there was reasonable ground to believe that the prisoners were guilty of burning certain Indian lodges in the Nappa Valley, and of killing several Indians, and perpetrating other outrages, they were, nevertheless, admitted to bail, on the grounds solely that the district courts had not as yet been organized, nor their terms fixed, nor the judges appointed, and that there was no secure place in which the prisoners could be kept until they could be brought to trial. It. seems, had not these reasons existed, the prisoners would have been remanded to the custody of the sheriff.\\n\\nThe facts are sufficiently stated in the opinion of the court. The cause was argued by\\n\\nO. I). Semple and John B. Weller, for tbe applicants, and by\\n\\nG. J. O. Keioen, (attorney general,) for tbe people.\\n\\nBy the Court.\\n\\nBennett, J.\\n\\nThis case comes up on tbe petition of the defendants to be discharged from, the custody of the sheriff of the district of Sonoma, under a writ of habeas corpus heretofore issued by this court. The return of the sheriff shows that the petitioners are detained by him by virtue of an order of the judge of First Instance of the distinct of Sonoma, and that such order was made upon the return of a warrant of arrest against the defendants, charging them with the commission of various felonious acts. Accompanying the return of the sheriff is also to be found a large amount of testimony taken on the examination, going to show that several Indians in the Nappa Valley were shot on the 2Ith day of February last, their lodges burned, and a considerable quantity of wheat, barley, and other property destroyed, and tending to fix tbe perpetration of these acts upon tbe petitioners.\\n\\nIt is claimed by the counsel for the accused : 1st. That the affidavit upon which the warrant of arrest was issued, is defective. 2d. That the order of commitment is irregular and illegal. 3d. That it does not appear that any offence has been committed within the state of California. And 4th. That a judge of First Instance cannot exercise the powers, -which the officer has, in this case, assumed. These are in substance the grounds *11upon which it is claimed that the prisoners should be discharged.\\n\\nFirst. It is claimed that the affidavit in pursuance of which the warrant was issued is defective, because it is alleged to be upon information merely. If this were so, wre should feel disposed to regard it as of but little value, for an affidavit which states no fact within the knowledge of the person making it, can be of but little weight in any legal proceeding. But we understand the affidavit in question to set forth in positive terms as within the knowledge of the deponent, the commission of the offences charged therein, and to proceed upon information as to the names only of the persons who were guilty of the perpetration of them. We think that the fact upon which the argument of counsel is based, does not exist; but even if it did, we are of opinion that it is now too late to raise the objection. The preliminary evidence upon an application for a warrant of arrest may be either by the affidavit of some person cognizant of the facts, or by his examination under oath taken by the officer ; and is for the purpose of satisfying the person to whom the application is made, that there is reason to believe that a felony or other crime has been actually committed, without which no warrant should issue; as also to prove the cause and probability of suspecting the party against whom the warrant is prayed. (4 Stephen's Comm. 356.) If in pursuance of preliminary proof charging a particular offence a warrant be issued,and the accused be brought before the magistrate, and upon examination it be found that he has been guilty of some felonious act, though different from that charged, it is nevertheless the duty of the examining officer to commit him for trial for the offence which it thus appears there is probable cause to suppose he has committed. The only period at which the defendant can avail himself of any defect in the affidavit, is previous to the examination and final order of commitment. In this case, no defects in the affidavit would authorize a discharge of the prisoner.\\n\\nSecondly. The objection to the several orders of commitment is, that it is required by them that the defendants stand committed to the custody of the sheriff “ till discharged by the *12“judge of the district court of said district of Sonoma at the “nest first term of said court to be held in and for said district, “ by virtue and in pursuance of the statute laws now passed or “ which may hereafter be passed by the legislature of the state “ now in session.” It is claimed that this authorizes an indefinite imprisonment, inasmuch as the district courts are not yet organized, and the district judges not yet appointed. The order, it is true, might have been drawn up with a greater degree of formality and technical accuracy. It would have been better expressed, if it bad authorized the commitment of the defendants until discharged by due course of lawn At tbe same time, we are of opinion that the order is substantially sufficient, and can in reality wrork no prejudice to tbe prisoners; for their case will unquestionably be laid before the first grand jury, which will meet in Sonoma, and will then be disposed of. It is in effect an order of commitment for trial, authorizing the detention of the defendants until their cases can be presented before a tribunal regularly constituted, with prescribed powers, proceeding according to an established practice, and competent to pronounce a final judgment either of acquittal or conviction. In the midst of the doubts as to tbe proper limits of the jurisdiction of courts of First Instance, and the want of regularity in proceedings before them, owing to their powers and practice not being sufficiently defined by law, we cannot say that the committing officer acted illegally, or unwisely, or to the prejudice of the defendants, in requiring, in his order, their commitment until the establishment of the new system and the organization of the new’ courts. The addition to the order of the clause in relation to the laws under which the defendants may be tried by tbe district court, cannot be considered as either enlarging or diminishing the power or jurisdiction of the district court. It should be regarded as mere surplusage, which can, in no respect, vitiate—and striking this out, wTe have simply an order committing the defendants for trial at the next district court.\\n\\nThirdly. It appears from the order of commitment that the offence charged was committed in “ Nappa Valley at and about “the ranch of Henry Fowler .and William Hargrave in said val- *13“ ley.” It is not necessary that it should be stated that Kappa Yalley is in the state of California. Courts take judicial notice of the territorial extent of the jurisdiction and sovereignty, exercised defacto by their own government; and of the local divisions of their country, as into states, provinces, counties, cities, towns, or the like, so far as political government is concerned or affected. (Greenleaf on Ev. 8.) And we recognize judicially that Kappa Yalley is embraced within the territorial limits of this state, the same as we should, that San Francisco is included within its boundaries, if an offence were charged to have been committed there.\\n\\nFourthly. It is claimed that a judge of First Instance cannot act as an examining and committing officer. We think otherwise. Judges of First Instance are invested with a criminal as well as a civil jurisdiction, (Art. 2, § 2, of part 2, of law of May 23, 1837, and art. 9, of same law,) and are empowered not only to try criminal causes, but also to act in the preliminary proceedings of arrest and commitment for trial. This power they have uniformly exercised since the acquisition of California by the United States government; and we deem it a part of their duties as conservators of the peace in the districts over which their jurisdiction extends. It was conceded upon the argument that they were conservators of the peace, but it was contended that the power of such officers does not extend to the arrest and commitment of persons charged with the commission of crimes. Before the institution of the office of justice of the peace in England, the public order was maintained by officers who bore the name of conservators of the peace, (4 Stephen's Comm. 37, 38;) and they were empowered to preserve the peace, to suppress riots and affrays, to take securities for the peace, and to apprehend and commit felons and other inferior criminals. (Id. 43.) The same power is conferred upon a variety of officers in England and the United States by simply declaring them by statute to be conservators of the peace ; and the constitution of this state confers the same authority in the same terms, upon the justices of this court and the district judges. Being conservators of the peace, the judges of First *14Instance may legally act in the apprehension and commitment of offenders against the law; and the proceedings before us are not invalid upon the ground of want of jurisdiction in the officer who made the commitment.\\n\\nThere are in addition to the views already taken of the case, reasons which render a discharge of the prisoners improper. The depositions taken before the judge of First Instance have been returned, and we think that enough appears in them to require that the defendants should be put upon their trial. It is a general rule, that upon application to bail or discharge upon habeas corpus, the court will look into the depositions, and, without regarding the regularity or irregularity of the commitment, will remand, discharge or bail the prisoner, according to the circumstances of the case. The court, in such case, pronounces no judgment, whether the facts amount to felony or not, but merely whether enough is charged to justify a detainer of the prisoner, and putting him upon his trial. Even if the commitment be regular, the court will look into the depositions, to see if there be a sufficient ground laid to detain the party in custody, and if there he not, will discharge or bail him. So, on the other hand, if the warrant of commitment be informal, they will not. discharge or bail the prisoner, without first looking into the depositions, if any be presented, to see whether there is sufficient evidence to detain him, and if the matter appear to be such as would require his detention, or his finding sureties, he will be bailed or committed accordingly, and not discharged. (1 Chitty Crim. Law, 92, 93, 94.)\\n\\nFor these reasons, the court cannot grant the prayer of the petitioners for their discharge. If the district courts were fully organized, and their terms prescribed and known, we should, perhaps, not deem it within the proper exercise of a sound discretion to bail them; but considering the want of definite and well understood laws regulating proceedings in the existing courts of First Instance, and the uncertainty as to the time when the district courts will be ready to proceed with business, super-added to the fact that there is no jail or prison in which prisoners can be kept with security, we feel disposed to order their *15release upon bail. The defendants must, therefore, enter into a joint recognizance with at least two good and sufficient sureties in the sum of ten thousand dollars, that they will appear and answer to any indictment which may be presented by the grand jury of the district of Sonoma for the offences charged against them in the several orders of commitment, from which they have petitioned to be discharged ; or either of them may enter into a recognizance- in the sum of three thousand dollars, with at least one good and sufficient surety, to the same effect. In either case the sureties must be approved by the judge oí First Instance of the district of Sonoma, or by one of the justices of this court, upon satisfactory proof that they are each worth double the amount specified in the recognizance over and above all debts, claims, and demands. Upon entering into such recognizance, either of the prisoners will be released from further detention. In case of failure to enter into such recognizance, they must be remanded to the custody of the sheriff of Sono-ma, to be by him kept until discharged by due course of law.\")]\n"
     ]
    }
   ],
   "source": [
    "from langchain_community.document_loaders import UnstructuredHTMLLoader\n",
    "\n",
    "file_path = \"../datasets/1/html/0009-01.html\"\n",
    "\n",
    "loader = UnstructuredHTMLLoader(file_path)\n",
    "data = loader.load()\n",
    "\n",
    "print(data)"
   ]
  },
  {
   "cell_type": "markdown",
   "metadata": {},
   "source": [
    "### Using BeautifulSoup"
   ]
  },
  {
   "cell_type": "code",
   "execution_count": 31,
   "metadata": {},
   "outputs": [],
   "source": [
    "from langchain_community.document_loaders import BSHTMLLoader"
   ]
  },
  {
   "cell_type": "code",
   "execution_count": 128,
   "metadata": {},
   "outputs": [
    {
     "name": "stdout",
     "output_type": "stream",
     "text": [
      "[Document(metadata={'source': '../datasets/1/html/0009-01.html', 'title': ''}, page_content=\"\\n\\nThe People vs. Smith, et al.\\n\\nIt is too late to raise an objection to an affidavit or warrant of arrest on a criminal charge, after the examination of the prisoner has been had, and it appears that there is probable cause to suppose that he is guilty of felony, and an order of commitment has been made by the committing magistrate. So held upon an application to discharge a prisoner on habeas corpus.\\n\\nIf it appear on the examination of a person before a committing magistrate, that the prisoner is guilty of felony, although different from that specified in the warrant of arrest, it is the duty of the officer to commit the prisoner for trial, for the offence of which he appears to be guilty.\\nIf an order of commitment be sufficient in substance, it will be held good on habeas corpus, although it contain more than is necessary to be stated therein. The unnecessary matter will be regarded as surplusage.\\nCourts will take judicial notice of the territorial extent of the jurisdiction and sovereignty, exercised de facto by their own government, and of the local divisions of the country into states, counties, cities, towns, &c.\\nJudges of First Instance hare jurisdiction to act as examining and committing magistrates.\\nThe justices of this court and the district judges, being made by the constitution of the state conservators of the peace, are ex vi termini, empowered to act in the apprehension and commitment of offenders. Per Bennett, J,\\nAn affidavit made upon information merely, is entitled to but little weight in any legal proceeding. Per Bennett, J.\\nUpon a return to a writ of habeas corpus it is proper for the court to look into the depositions taken before the committing magistrate, in order to ascertain whether there is probable cause to suppose that a felony has been committed by the prisoner.\\n\\n*10Where it appeared on the return to a writ of habeas corpus that there was reasonable ground to believe that the prisoners were guilty of burning certain Indian lodges in the Nappa Valley, and of killing several Indians, and perpetrating other outrages, they were, nevertheless, admitted to bail, on the grounds solely that the district courts had not as yet been organized, nor their terms fixed, nor the judges appointed, and that there was no secure place in which the prisoners could be kept until they could be brought to trial. It. seems, had not these reasons existed, the prisoners would have been remanded to the custody of the sheriff.\\nThe facts are sufficiently stated in the opinion of the court. The cause was argued by\\n\\nO. I). Semple and John B. Weller, for tbe applicants, and by\\n\\nG. J. O. Keioen, (attorney general,) for tbe people.\\n\\n\\n\\nBy the Court.\\n\\nBennett, J.\\nThis case comes up on tbe petition of the defendants to be discharged from, the custody of the sheriff of the district of Sonoma, under a writ of habeas corpus heretofore issued by this court. The return of the sheriff shows that the petitioners are detained by him by virtue of an order of the judge of First Instance of the distinct of Sonoma, and that such order was made upon the return of a warrant of arrest against the defendants, charging them with the commission of various felonious acts. Accompanying the return of the sheriff is also to be found a large amount of testimony taken on the examination, going to show that several Indians in the Nappa Valley were shot on the 2Ith day of February last, their lodges burned, and a considerable quantity of wheat, barley, and other property destroyed, and tending to fix tbe perpetration of these acts upon tbe petitioners.\\nIt is claimed by the counsel for the accused : 1st. That the affidavit upon which the warrant of arrest was issued, is defective. 2d. That the order of commitment is irregular and illegal. 3d. That it does not appear that any offence has been committed within the state of California. And 4th. That a judge of First Instance cannot exercise the powers, -which the officer has, in this case, assumed. These are in substance the grounds *11upon which it is claimed that the prisoners should be discharged.\\nFirst. It is claimed that the affidavit in pursuance of which the warrant was issued is defective, because it is alleged to be upon information merely. If this were so, wre should feel disposed to regard it as of but little value, for an affidavit which states no fact within the knowledge of the person making it, can be of but little weight in any legal proceeding. But we understand the affidavit in question to set forth in positive terms as within the knowledge of the deponent, the commission of the offences charged therein, and to proceed upon information as to the names only of the persons who were guilty of the perpetration of them. We think that the fact upon which the argument of counsel is based, does not exist; but even if it did, we are of opinion that it is now too late to raise the objection. The preliminary evidence upon an application for a warrant of arrest may be either by the affidavit of some person cognizant of the facts, or by his examination under oath taken by the officer ; and is for the purpose of satisfying the person to whom the application is made, that there is reason to believe that a felony or other crime has been actually committed, without which no warrant should issue; as also to prove the cause and probability of suspecting the party against whom the warrant is prayed. (4 Stephen's Comm. 356.) If in pursuance of preliminary proof charging a particular offence a warrant be issued,and the accused be brought before the magistrate, and upon examination it be found that he has been guilty of some felonious act, though different from that charged, it is nevertheless the duty of the examining officer to commit him for trial for the offence which it thus appears there is probable cause to suppose he has committed. The only period at which the defendant can avail himself of any defect in the affidavit, is previous to the examination and final order of commitment. In this case, no defects in the affidavit would authorize a discharge of the prisoner.\\nSecondly. The objection to the several orders of commitment is, that it is required by them that the defendants stand committed to the custody of the sheriff “ till discharged by the *12“judge of the district court of said district of Sonoma at the “nest first term of said court to be held in and for said district, “ by virtue and in pursuance of the statute laws now passed or “ which may hereafter be passed by the legislature of the state “ now in session.” It is claimed that this authorizes an indefinite imprisonment, inasmuch as the district courts are not yet organized, and the district judges not yet appointed. The order, it is true, might have been drawn up with a greater degree of formality and technical accuracy. It would have been better expressed, if it bad authorized the commitment of the defendants until discharged by due course of lawn At tbe same time, we are of opinion that the order is substantially sufficient, and can in reality wrork no prejudice to tbe prisoners; for their case will unquestionably be laid before the first grand jury, which will meet in Sonoma, and will then be disposed of. It is in effect an order of commitment for trial, authorizing the detention of the defendants until their cases can be presented before a tribunal regularly constituted, with prescribed powers, proceeding according to an established practice, and competent to pronounce a final judgment either of acquittal or conviction. In the midst of the doubts as to tbe proper limits of the jurisdiction of courts of First Instance, and the want of regularity in proceedings before them, owing to their powers and practice not being sufficiently defined by law, we cannot say that the committing officer acted illegally, or unwisely, or to the prejudice of the defendants, in requiring, in his order, their commitment until the establishment of the new system and the organization of the new’ courts. The addition to the order of the clause in relation to the laws under which the defendants may be tried by tbe district court, cannot be considered as either enlarging or diminishing the power or jurisdiction of the district court. It should be regarded as mere surplusage, which can, in no respect, vitiate—and striking this out, wTe have simply an order committing the defendants for trial at the next district court.\\nThirdly. It appears from the order of commitment that the offence charged was committed in “ Nappa Valley at and about “the ranch of Henry Fowler .and William Hargrave in said val- *13“ ley.” It is not necessary that it should be stated that Kappa Yalley is in the state of California. Courts take judicial notice of the territorial extent of the jurisdiction and sovereignty, exercised defacto by their own government; and of the local divisions of their country, as into states, provinces, counties, cities, towns, or the like, so far as political government is concerned or affected. (Greenleaf on Ev. 8.) And we recognize judicially that Kappa Yalley is embraced within the territorial limits of this state, the same as we should, that San Francisco is included within its boundaries, if an offence were charged to have been committed there.\\nFourthly. It is claimed that a judge of First Instance cannot act as an examining and committing officer. We think otherwise. Judges of First Instance are invested with a criminal as well as a civil jurisdiction, (Art. 2, § 2, of part 2, of law of May 23, 1837, and art. 9, of same law,) and are empowered not only to try criminal causes, but also to act in the preliminary proceedings of arrest and commitment for trial. This power they have uniformly exercised since the acquisition of California by the United States government; and we deem it a part of their duties as conservators of the peace in the districts over which their jurisdiction extends. It was conceded upon the argument that they were conservators of the peace, but it was contended that the power of such officers does not extend to the arrest and commitment of persons charged with the commission of crimes. Before the institution of the office of justice of the peace in England, the public order was maintained by officers who bore the name of conservators of the peace, (4 Stephen's Comm. 37, 38;) and they were empowered to preserve the peace, to suppress riots and affrays, to take securities for the peace, and to apprehend and commit felons and other inferior criminals. (Id. 43.) The same power is conferred upon a variety of officers in England and the United States by simply declaring them by statute to be conservators of the peace ; and the constitution of this state confers the same authority in the same terms, upon the justices of this court and the district judges. Being conservators of the peace, the judges of First *14Instance may legally act in the apprehension and commitment of offenders against the law; and the proceedings before us are not invalid upon the ground of want of jurisdiction in the officer who made the commitment.\\nThere are in addition to the views already taken of the case, reasons which render a discharge of the prisoners improper. The depositions taken before the judge of First Instance have been returned, and we think that enough appears in them to require that the defendants should be put upon their trial. It is a general rule, that upon application to bail or discharge upon habeas corpus, the court will look into the depositions, and, without regarding the regularity or irregularity of the commitment, will remand, discharge or bail the prisoner, according to the circumstances of the case. The court, in such case, pronounces no judgment, whether the facts amount to felony or not, but merely whether enough is charged to justify a detainer of the prisoner, and putting him upon his trial. Even if the commitment be regular, the court will look into the depositions, to see if there be a sufficient ground laid to detain the party in custody, and if there he not, will discharge or bail him. So, on the other hand, if the warrant of commitment be informal, they will not. discharge or bail the prisoner, without first looking into the depositions, if any be presented, to see whether there is sufficient evidence to detain him, and if the matter appear to be such as would require his detention, or his finding sureties, he will be bailed or committed accordingly, and not discharged. (1 Chitty Crim. Law, 92, 93, 94.)\\nFor these reasons, the court cannot grant the prayer of the petitioners for their discharge. If the district courts were fully organized, and their terms prescribed and known, we should, perhaps, not deem it within the proper exercise of a sound discretion to bail them; but considering the want of definite and well understood laws regulating proceedings in the existing courts of First Instance, and the uncertainty as to the time when the district courts will be ready to proceed with business, super-added to the fact that there is no jail or prison in which prisoners can be kept with security, we feel disposed to order their *15release upon bail. The defendants must, therefore, enter into a joint recognizance with at least two good and sufficient sureties in the sum of ten thousand dollars, that they will appear and answer to any indictment which may be presented by the grand jury of the district of Sonoma for the offences charged against them in the several orders of commitment, from which they have petitioned to be discharged ; or either of them may enter into a recognizance- in the sum of three thousand dollars, with at least one good and sufficient surety, to the same effect. In either case the sureties must be approved by the judge oí First Instance of the district of Sonoma, or by one of the justices of this court, upon satisfactory proof that they are each worth double the amount specified in the recognizance over and above all debts, claims, and demands. Upon entering into such recognizance, either of the prisoners will be released from further detention. In case of failure to enter into such recognizance, they must be remanded to the custody of the sheriff of Sono-ma, to be by him kept until discharged by due course of law.\\n\\n\")]\n"
     ]
    }
   ],
   "source": [
    "loader = BSHTMLLoader(file_path)\n",
    "data = loader.load()\n",
    "\n",
    "print(data)"
   ]
  },
  {
   "cell_type": "markdown",
   "metadata": {},
   "source": [
    "### Semantic Search using all-minilm:l6-v2"
   ]
  },
  {
   "cell_type": "code",
   "execution_count": 146,
   "metadata": {},
   "outputs": [],
   "source": [
    "from langchain_text_splitters import RecursiveCharacterTextSplitter\n",
    "\n",
    "splitter = RecursiveCharacterTextSplitter(\n",
    "    chunk_size=1000, chunk_overlap=200, add_start_index=True\n",
    ")\n",
    "\n",
    "all_splits = splitter.split_documents(data)"
   ]
  },
  {
   "cell_type": "code",
   "execution_count": 147,
   "metadata": {},
   "outputs": [
    {
     "name": "stdout",
     "output_type": "stream",
     "text": [
      "The People vs. Smith, et al.\n",
      "\n",
      "It is too late to raise an objection to an affidavit or warrant of arrest on a criminal charge, after the examination of the prisoner has been had, and it appears that there is probable cause to suppose that he is guilty of felony, and an order of commitment has been made by the committing magistrate. So held upon an application to discharge a prisoner on habeas corpus.\n",
      "\n",
      "\n",
      "If it appear on the examination of a person before a committing magistrate, that the prisoner is guilty of felony, although different from that specified in the warrant of arrest, it is the duty of the officer to commit the prisoner for trial, for the offence of which he appears to be guilty.\n",
      "If an order of commitment be sufficient in substance, it will be held good on habeas corpus, although it contain more than is necessary to be stated therein. The unnecessary matter will be regarded as surplusage.\n",
      "Courts will take judicial notice of the territorial extent of the jurisdiction and sovereignty, exercised de facto by their own government, and of the local divisions of the country into states, counties, cities, towns, &c.\n",
      "Judges of First Instance hare jurisdiction to act as examining and committing magistrates.\n",
      "\n",
      "\n",
      "Judges of First Instance hare jurisdiction to act as examining and committing magistrates.\n",
      "The justices of this court and the district judges, being made by the constitution of the state conservators of the peace, are ex vi termini, empowered to act in the apprehension and commitment of offenders. Per Bennett, J,\n",
      "An affidavit made upon information merely, is entitled to but little weight in any legal proceeding. Per Bennett, J.\n",
      "Upon a return to a writ of habeas corpus it is proper for the court to look into the depositions taken before the committing magistrate, in order to ascertain whether there is probable cause to suppose that a felony has been committed by the prisoner.\n",
      "\n",
      "\n",
      "*10Where it appeared on the return to a writ of habeas corpus that there was reasonable ground to believe that the prisoners were guilty of burning certain Indian lodges in the Nappa Valley, and of killing several Indians, and perpetrating other outrages, they were, nevertheless, admitted to bail, on the grounds solely that the district courts had not as yet been organized, nor their terms fixed, nor the judges appointed, and that there was no secure place in which the prisoners could be kept until they could be brought to trial. It. seems, had not these reasons existed, the prisoners would have been remanded to the custody of the sheriff.\n",
      "The facts are sufficiently stated in the opinion of the court. The cause was argued by\n",
      "\n",
      "O. I). Semple and John B. Weller, for tbe applicants, and by\n",
      "\n",
      "G. J. O. Keioen, (attorney general,) for tbe people.\n",
      "\n",
      "\n",
      "\n",
      "By the Court.\n",
      "\n",
      "\n",
      "Bennett, J.\n",
      "This case comes up on tbe petition of the defendants to be discharged from, the custody of the sheriff of the district of Sonoma, under a writ of habeas corpus heretofore issued by this court. The return of the sheriff shows that the petitioners are detained by him by virtue of an order of the judge of First Instance of the distinct of Sonoma, and that such order was made upon the return of a warrant of arrest against the defendants, charging them with the commission of various felonious acts. Accompanying the return of the sheriff is also to be found a large amount of testimony taken on the examination, going to show that several Indians in the Nappa Valley were shot on the 2Ith day of February last, their lodges burned, and a considerable quantity of wheat, barley, and other property destroyed, and tending to fix tbe perpetration of these acts upon tbe petitioners.\n",
      "\n",
      "\n"
     ]
    }
   ],
   "source": [
    "for doc in all_splits[0:5]:\n",
    "    print(doc.page_content)\n",
    "    print(\"\\n\")\n",
    "\n",
    "# all_splits[0:5]"
   ]
  },
  {
   "cell_type": "code",
   "execution_count": 100,
   "metadata": {},
   "outputs": [],
   "source": [
    "from langchain_ollama import OllamaEmbeddings"
   ]
  },
  {
   "cell_type": "code",
   "execution_count": 141,
   "metadata": {},
   "outputs": [],
   "source": [
    "embedding = OllamaEmbeddings(\n",
    "    model = \"all-minilm:l6-v2\",\n",
    ")"
   ]
  },
  {
   "cell_type": "code",
   "execution_count": 102,
   "metadata": {},
   "outputs": [],
   "source": [
    "from langchain_chroma import Chroma "
   ]
  },
  {
   "cell_type": "code",
   "execution_count": 148,
   "metadata": {},
   "outputs": [],
   "source": [
    "vector_store_new = Chroma(\n",
    "    collection_name = \"case_1\",\n",
    "    embedding_function = embedding\n",
    ")\n",
    "\n",
    "embedded_text = vector_store_new.add_documents(documents=all_splits)"
   ]
  },
  {
   "cell_type": "code",
   "execution_count": 149,
   "metadata": {},
   "outputs": [
    {
     "data": {
      "text/plain": [
       "['5599454c-ecd2-4ca3-927e-a5ba777d1cd7',\n",
       " 'f777a0b4-daf9-4b40-8045-022a78947262',\n",
       " '810665ca-a544-465b-b633-79d39e46848f',\n",
       " '9a620e6d-bd9e-476d-b9ac-0291b93c459c',\n",
       " '456e65d5-faca-4ad7-8bd9-523defd460dd',\n",
       " '34c997cc-cf34-4eec-a3a8-e6da13e00938',\n",
       " '94235ce1-83b6-4f1f-8447-3abe9bc5f97f',\n",
       " '53291113-4d65-447c-9eed-9f6021e4a7ec',\n",
       " 'de5d0dd0-cf42-4062-ba17-f68cd516b1f0',\n",
       " '80a569b4-b907-40e1-ad84-156f9d85ee77',\n",
       " '6c1df6ba-23fb-49db-a983-8f8f52a9c594',\n",
       " '5d48fe49-f2a9-4d63-b766-397531719d81',\n",
       " 'a39e7098-9285-432a-bf2b-4383931203a9',\n",
       " 'ef298a3f-1d67-4ec2-9659-a0649266887e',\n",
       " '4591f659-531d-44b2-8f59-349a3963fb45',\n",
       " '337afdcf-5239-4dd8-9e30-0f0d11abe5a5',\n",
       " '5b764e37-3ecc-4ac3-9a99-41703de2c177',\n",
       " '3e3d9db5-1729-461a-a394-dfdd053ebada',\n",
       " '989daec7-3e2e-4e7f-8ad3-e31e15388186',\n",
       " '32c2b873-c100-476b-8f9d-b387d965adb7']"
      ]
     },
     "execution_count": 149,
     "metadata": {},
     "output_type": "execute_result"
    }
   ],
   "source": [
    "embedded_text"
   ]
  },
  {
   "cell_type": "code",
   "execution_count": 156,
   "metadata": {},
   "outputs": [
    {
     "name": "stdout",
     "output_type": "stream",
     "text": [
      "page_content='Secondly. The objection to the several orders of commitment is, that it is required by them that the defendants stand committed to the custody of the sheriff “ till discharged by the *12“judge of the district court of said district of Sonoma at the “nest first term of said court to be held in and for said district, “ by virtue and in pursuance of the statute laws now passed or “ which may hereafter be passed by the legislature of the state “ now in session.” It is claimed that this authorizes an indefinite imprisonment, inasmuch as the district courts are not yet organized, and the district judges not yet appointed. The order, it is true, might have been drawn up with a greater degree of formality and technical accuracy. It would have been better expressed, if it bad authorized the commitment of the defendants until discharged by due course of lawn At tbe same time, we are of opinion that the order is substantially sufficient, and can in reality wrork no prejudice to tbe prisoners;' metadata={'title': '', 'start_index': 6094, 'source': '../datasets/1/html/0009-01.html'}\n"
     ]
    }
   ],
   "source": [
    "query_embedding = embedding.embed_query(\"Which district does the sheriff belong to\")\n",
    "\n",
    "results = vector_store_new.similarity_search_by_vector(query_embedding)\n",
    "print(results[0])"
   ]
  },
  {
   "cell_type": "code",
   "execution_count": 158,
   "metadata": {},
   "outputs": [
    {
     "data": {
      "text/plain": [
       "str"
      ]
     },
     "execution_count": 158,
     "metadata": {},
     "output_type": "execute_result"
    }
   ],
   "source": [
    "type(results[0].page_content)"
   ]
  },
  {
   "cell_type": "markdown",
   "metadata": {},
   "source": [
    "### Q&A with Mistral"
   ]
  },
  {
   "cell_type": "code",
   "execution_count": 164,
   "metadata": {},
   "outputs": [],
   "source": [
    "from langchain_core.prompts import ChatPromptTemplate\n",
    "from langchain.chains.combine_documents import create_stuff_documents_chain\n",
    "from langchain.chains.llm import LLMChain\n",
    "from langgraph.graph import START, StateGraph\n",
    "from langchain_core.documents import Document\n",
    "from typing_extensions import List, TypedDict"
   ]
  },
  {
   "cell_type": "code",
   "execution_count": 180,
   "metadata": {},
   "outputs": [],
   "source": [
    "\n",
    "prompt = ChatPromptTemplate.from_template(\"\"\"Answer the following question based only on the provided context:\n",
    "    <context>\n",
    "    {context}\n",
    "    </context>\n",
    "    Question: {question}\"\"\")\n",
    "\n",
    "# Define state for application\n",
    "\n",
    "class State(TypedDict):\n",
    "    question: str\n",
    "    context: List[Document]\n",
    "    answer: str\n",
    "        \n",
    "# Define application steps\n",
    "def retrieve(state: State):\n",
    "    retrieved_docs = vector_store_new.similarity_search(state[\"question\"])\n",
    "    return {\"context\": retrieved_docs}\n",
    "        \n",
    "def generate(state: State):\n",
    "    docs_content = \"\\n\\n\".join(doc.page_content for doc in state[\"context\"])\n",
    "    messages = prompt.invoke({\"question\": state[\"question\"], \"context\": docs_content})\n",
    "    response = llm.invoke(messages)\n",
    "    return {\"answer\": response}"
   ]
  },
  {
   "cell_type": "code",
   "execution_count": 181,
   "metadata": {},
   "outputs": [],
   "source": [
    "# Compile application and test\n",
    "graph_builder = StateGraph(State).add_sequence([retrieve, generate])\n",
    "# graph_builder = StateGraph(State).add_sequence([retrieve])\n",
    "graph_builder.add_edge(START, \"retrieve\")\n",
    "graph = graph_builder.compile()"
   ]
  },
  {
   "cell_type": "code",
   "execution_count": 185,
   "metadata": {},
   "outputs": [
    {
     "name": "stdout",
     "output_type": "stream",
     "text": [
      " The context does not explicitly state which specific district the sheriff belongs to. However, it can be inferred that the sheriff is responsible for custody in the district of Sonoma, as stated in the objection to the several orders of commitment: \"till discharged by the *12“judge of the district court of said district of Sonoma\".\n"
     ]
    }
   ],
   "source": [
    "response = graph.invoke({\"question\": \"Which district does the sheriff belong to?\"})\n",
    "print(response['answer'])"
   ]
  },
  {
   "cell_type": "code",
   "execution_count": 187,
   "metadata": {},
   "outputs": [
    {
     "name": "stdout",
     "output_type": "stream",
     "text": [
      " The context provided does not explicitly state who the defendant is. However, it can be inferred that the defendants are individuals being detained and awaiting trial in a legal proceeding.\n"
     ]
    }
   ],
   "source": [
    "response = graph.invoke({\"question\": \"Who is the defendant?\"})\n",
    "print(response['answer'])"
   ]
  },
  {
   "cell_type": "code",
   "execution_count": 188,
   "metadata": {},
   "outputs": [
    {
     "name": "stdout",
     "output_type": "stream",
     "text": [
      " In England, before the institution of the office of justice of the peace, public order was maintained by officers known as conservators of the peace. These officers were empowered to preserve the peace, suppress riots and affrays, take securities for the peace, and apprehend and commit felons and other inferior criminals (4 Stephen's Comm. 37, 38). The same power is conferred upon a variety of officers in England and the United States by simply declaring them conservators of the peace through statutes.\n"
     ]
    }
   ],
   "source": [
    "response = graph.invoke({\"question\": \"What is mentioned about England and peace?\"})\n",
    "print(response['answer'])"
   ]
  },
  {
   "cell_type": "markdown",
   "metadata": {},
   "source": [
    "### Summary"
   ]
  },
  {
   "cell_type": "code",
   "execution_count": 88,
   "metadata": {},
   "outputs": [
    {
     "name": "stdout",
     "output_type": "stream",
     "text": [
      " The case \"The People vs. Smith, et al.\" concerns a petition for habeas corpus to release prisoners detained based on an order of commitment for various felonious acts in the Nappa Valley. The court ruled that:\n",
      "\n",
      "1. Objections to affidavits or warrants of arrest can't be raised after examination and probable cause has been established, and an order of commitment made.\n",
      "2. If a person appears guilty of a different felony during examination by a committing magistrate, they should be committed for trial for the offence they appear to be guilty of.\n",
      "3. Unnecessary matters in orders of commitment will be considered surplusage.\n",
      "4. Courts take judicial notice of their own government's jurisdiction and local divisions (states, counties, cities).\n",
      "5. Judges of First Instance have jurisdiction to act as examining and committing magistrates.\n",
      "6. Affidavits based on information may be entitled to little weight, but are acceptable if they set forth facts within the deponent's knowledge.\n",
      "7. Upon return to a writ of habeas corpus, courts can look into depositions taken before the committing magistrate to ascertain probable cause for detention.\n",
      "8. If there is reasonable ground to believe prisoners committed burning Indian lodges and other outrages in the Nappa Valley, they can be admitted to bail, even if district courts are not yet organized or judges appointed.\n",
      "9. The addition of laws under which defendants may be tried cannot vitiate an order of commitment for trial at the next district court.\n",
      "10. A judge of First Instance can act as an examining and committing officer since they have both criminal and civil jurisdiction, and are conservators of the peace in their districts.\n",
      "11. The court will look into depositions to see if there's sufficient ground to detain a prisoner and either remand, discharge, or bail them accordingly.\n",
      "12. If the district courts were fully organized, prisoners might not be granted bail due to uncertainty about the time when they would be ready to proceed with business. However, considering the current situation, the court orders their release upon bail in this case.\n"
     ]
    }
   ],
   "source": [
    "# Define prompt\n",
    "prompt = ChatPromptTemplate.from_messages(\n",
    "    [(\"system\", \"Write a concise summary of the following:\\\\n\\\\n{context}\")]\n",
    ")\n",
    "\n",
    "# Instantiate chain\n",
    "chain = create_stuff_documents_chain(llm, prompt)\n",
    "\n",
    "# Invoke chain\n",
    "result = chain.invoke({\"context\": data})\n",
    "print(result)"
   ]
  },
  {
   "cell_type": "code",
   "execution_count": null,
   "metadata": {},
   "outputs": [],
   "source": []
  }
 ],
 "metadata": {
  "kernelspec": {
   "display_name": "Python 3.11",
   "language": "python",
   "name": "rag_exp"
  },
  "language_info": {
   "codemirror_mode": {
    "name": "ipython",
    "version": 3
   },
   "file_extension": ".py",
   "mimetype": "text/x-python",
   "name": "python",
   "nbconvert_exporter": "python",
   "pygments_lexer": "ipython3",
   "version": "3.11.13"
  }
 },
 "nbformat": 4,
 "nbformat_minor": 4
}
