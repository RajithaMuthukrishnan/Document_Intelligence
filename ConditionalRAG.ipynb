{
 "cells": [
  {
   "cell_type": "markdown",
   "metadata": {},
   "source": [
    "### LangSmith Tracing"
   ]
  },
  {
   "cell_type": "code",
   "execution_count": 1,
   "metadata": {},
   "outputs": [],
   "source": [
    "import os\n",
    "import getpass"
   ]
  },
  {
   "cell_type": "code",
   "execution_count": 2,
   "metadata": {},
   "outputs": [
    {
     "name": "stdin",
     "output_type": "stream",
     "text": [
      " ···················································\n"
     ]
    }
   ],
   "source": [
    "os.environ[\"LANGSMITH_TRACING\"]=\"true\"\n",
    "os.environ[\"LANGSMITH_ENDPOINT\"]=\"https://api.smith.langchain.com\"\n",
    "os.environ[\"LANGSMITH_API_KEY\"]= getpass.getpass()\n",
    "os.environ[\"LANGSMITH_PROJECT\"]=\"RAG_workflow\""
   ]
  },
  {
   "cell_type": "code",
   "execution_count": 1,
   "metadata": {},
   "outputs": [],
   "source": [
    "from bs4 import BeautifulSoup\n",
    "from langchain.schema import Document"
   ]
  },
  {
   "cell_type": "code",
   "execution_count": 2,
   "metadata": {},
   "outputs": [],
   "source": [
    "file_paths = [\"/Users/rajithamuthukrishnan/Desktop/git/datasets/1/html/0009-01.html\",\"/Users/rajithamuthukrishnan/Desktop/git/datasets/1/html/0015-01.html\"]"
   ]
  },
  {
   "cell_type": "code",
   "execution_count": 3,
   "metadata": {},
   "outputs": [
    {
     "data": {
      "text/plain": [
       "2"
      ]
     },
     "execution_count": 3,
     "metadata": {},
     "output_type": "execute_result"
    }
   ],
   "source": [
    "len(file_paths)"
   ]
  },
  {
   "cell_type": "markdown",
   "metadata": {},
   "source": [
    "# Extract Data and convert to LangDocs"
   ]
  },
  {
   "cell_type": "code",
   "execution_count": 4,
   "metadata": {},
   "outputs": [],
   "source": [
    "def create_lang_documents(raw_docs):\n",
    "    lang_docs = [Document(page_content=doc['body_text'], metadata={**doc['metadata']})\n",
    "       for doc in raw_docs]\n",
    "    return lang_docs\n",
    "\n",
    "def extract_case_metadata(html_content: str) -> dict:\n",
    "    soup = BeautifulSoup(html_content, \"html.parser\")\n",
    "    \n",
    "    body_text = soup.get_text(separator=\" \", strip=True)\n",
    "    # Extract - case id\n",
    "    section = soup.find(\"section\", {\"class\": \"casebody\"})\n",
    "    case_id = section.get(\"data-case-id\") if section else None\n",
    "    # Extract - case title / name\n",
    "    h4 = soup.find(\"h4\", {\"parties\"})\n",
    "    name = h4.get_text(strip=True) if h4 else None\n",
    "    # Extract - attorneys\n",
    "    attorneys = [\n",
    "        tag.get_text(strip=True) for tag in soup.find_all(\"p\",{\"class\", \"attorneys\"})\n",
    "    ]\n",
    "    # Extract - author\n",
    "    author = soup.find(\"p\",{\"class\",\"author\"}).get_text(strip=True) if soup.find(\"p\",{\"class\",\"author\"}) else None\n",
    "    \n",
    "    return {\n",
    "        \"metadata\":{\n",
    "            \"case_id\": case_id,\n",
    "            \"case_name\": name,\n",
    "            \"attorneys\": attorneys,\n",
    "            \"author\": author\n",
    "        },\n",
    "        \"body_text\": body_text\n",
    "    }\n",
    "\n",
    "def extract_data(file_list):\n",
    "    data = []\n",
    "    for file in file_list:\n",
    "        if file.endswith('.html') or file.endswith('.htm'):\n",
    "            with open(file, \"r\", encoding=\"utf-8\") as f:\n",
    "                html_content = f.read()\n",
    "                data.append(extract_case_metadata(html_content)) \n",
    "                docs = create_lang_documents(data)\n",
    "        else:\n",
    "            print(f\"Unsupported file type: {file}\") \n",
    "    return docs"
   ]
  },
  {
   "cell_type": "code",
   "execution_count": 5,
   "metadata": {},
   "outputs": [],
   "source": [
    "docs = extract_data(file_paths)"
   ]
  },
  {
   "cell_type": "code",
   "execution_count": 6,
   "metadata": {},
   "outputs": [],
   "source": [
    "# docs"
   ]
  },
  {
   "cell_type": "markdown",
   "metadata": {},
   "source": [
    "## Chunk docs"
   ]
  },
  {
   "cell_type": "code",
   "execution_count": 7,
   "metadata": {},
   "outputs": [],
   "source": [
    "from langchain.text_splitter import RecursiveCharacterTextSplitter"
   ]
  },
  {
   "cell_type": "code",
   "execution_count": 8,
   "metadata": {},
   "outputs": [],
   "source": [
    "text_splitter = RecursiveCharacterTextSplitter(\n",
    "    chunk_size=1000,\n",
    "    chunk_overlap=100,\n",
    "    add_start_index=True,\n",
    ")"
   ]
  },
  {
   "cell_type": "code",
   "execution_count": 9,
   "metadata": {},
   "outputs": [],
   "source": [
    "chunks = text_splitter.split_documents(docs)"
   ]
  },
  {
   "cell_type": "code",
   "execution_count": 10,
   "metadata": {},
   "outputs": [],
   "source": [
    "# chunks"
   ]
  },
  {
   "cell_type": "markdown",
   "metadata": {},
   "source": [
    "## Embed the chunks"
   ]
  },
  {
   "cell_type": "code",
   "execution_count": 11,
   "metadata": {},
   "outputs": [],
   "source": [
    "from langchain_ollama import OllamaEmbeddings\n",
    "from langchain_community.vectorstores import FAISS"
   ]
  },
  {
   "cell_type": "code",
   "execution_count": 12,
   "metadata": {},
   "outputs": [],
   "source": [
    "embedding = OllamaEmbeddings(\n",
    "    model = \"all-minilm:l6-v2\",\n",
    ")\n",
    "\n",
    "# faiss_vectorstore = FAISS.from_documents(chunks, embedding)"
   ]
  },
  {
   "cell_type": "code",
   "execution_count": 13,
   "metadata": {},
   "outputs": [],
   "source": [
    "# embedded_query=embedding.embed_query(\"Who is Bennet J?\")"
   ]
  },
  {
   "cell_type": "code",
   "execution_count": 38,
   "metadata": {},
   "outputs": [],
   "source": [
    "# faiss_vectorstore.similarity_search(\n",
    "#     \"Who is Bennet J\",\n",
    "#     k=2\n",
    "# )"
   ]
  },
  {
   "cell_type": "code",
   "execution_count": 40,
   "metadata": {},
   "outputs": [],
   "source": [
    "from langchain_experimental.text_splitter import SemanticChunker"
   ]
  },
  {
   "cell_type": "code",
   "execution_count": 41,
   "metadata": {},
   "outputs": [
    {
     "name": "stdout",
     "output_type": "stream",
     "text": [
      "comes up on tbe petition of the defendants to be discharged from, the custody of the sheriff of the district of Sonoma, under a writ of habeas corpus heretofore issued by this court. The return of the sheriff shows that the petitioners are detained by him by virtue of an order of the judge of First Instance of the distinct of Sonoma, and that such order was made upon the return of a warrant of arrest against the defendants, charging them with the commission of various felonious acts. Accompanying the return of the sheriff is also to be found a large amount of testimony taken on the examination, going to show that several Indians in the Nappa Valley were shot on the 2Ith day of February last, their lodges burned, and a considerable quantity of wheat, barley, and other property destroyed, and tending to fix tbe perpetration of these acts upon tbe petitioners. It is claimed by the counsel for the accused : 1st.\n",
      "921\n",
      "Secondly. The objection to the several orders of commitment is, that it is required by them that the defendants stand committed to the custody of the sheriff “ till discharged by the *12 “judge of the district court of said district of Sonoma at the “nest first term of said court to be held in and for said district,\n",
      "317\n",
      "said district of Sonoma at the “nest first term of said court to be held in and for said district, “ by virtue and in pursuance of the statute laws now passed or “ which may hereafter be passed by the legislature of the state “ now in session.” It is claimed that this authorizes an indefinite imprisonment, inasmuch as the district courts are not yet organized, and the district judges not yet appointed. The order, it is true, might have been drawn up with a greater degree of formality and technical accuracy.\n",
      "512\n",
      "If the district courts were fully organized, and their terms prescribed and known, we should, perhaps, not deem it within the proper exercise of a sound discretion to bail them; but considering the want of definite and well understood laws regulating proceedings in the existing courts of First Instance, and the uncertainty as to the time when the district courts will be ready to proceed with business, super-added to the fact that there is no jail or prison in which prisoners can be kept with security, we feel disposed to order their *15 release upon bail. The defendants must, therefore, enter into a joint recognizance with at least two good and sufficient sureties in the sum of ten thousand dollars, that they will appear and answer to any indictment which may be presented by the grand jury of the district of Sonoma for the offences charged against them in the several orders of commitment, from which they have petitioned to be discharged ; or either of them may\n",
      "974\n",
      "orders of commitment, from which they have petitioned to be discharged ; or either of them may enter into a recognizance- in the sum of three thousand dollars, with at least one good and sufficient surety, to the same effect. In either case the sureties must be approved by the judge oí First Instance of the district of Sonoma, or by one of the justices of this court, upon satisfactory proof that they are each worth double the amount specified in the recognizance over and above all debts, claims, and demands. Upon entering into such recognizance, either of the prisoners will be released from further detention.\n",
      "616\n"
     ]
    }
   ],
   "source": [
    "semantic_chunker = SemanticChunker(embedding, breakpoint_threshold_type=\"percentile\")\n",
    "semantic_chunks = semantic_chunker.create_documents([d.page_content for d in chunks])\n",
    "#\n",
    "for semantic_chunk in semantic_chunks:\n",
    "  if \"district of Sonoma\" in semantic_chunk.page_content:\n",
    "    print(semantic_chunk.page_content)\n",
    "    print(len(semantic_chunk.page_content))"
   ]
  },
  {
   "cell_type": "code",
   "execution_count": 42,
   "metadata": {},
   "outputs": [],
   "source": [
    "semantic_chunk_vectorstore = FAISS.from_documents(semantic_chunks, embedding=embedding)\n",
    "semantic_chunk_retriever = semantic_chunk_vectorstore.as_retriever(search_kwargs={\"k\" : 1})"
   ]
  },
  {
   "cell_type": "code",
   "execution_count": 43,
   "metadata": {},
   "outputs": [
    {
     "data": {
      "text/plain": [
       "[Document(id='645fbaf6-f2ce-4574-9a9f-774645a04eba', metadata={}, page_content='said district of Sonoma at the “nest first term of said court to be held in and for said district, “ by virtue and in pursuance of the statute laws now passed or “ which may hereafter be passed by the legislature of the state “ now in session.” It is claimed that this authorizes an indefinite imprisonment, inasmuch as the district courts are not yet organized, and the district judges not yet appointed. The order, it is true, might have been drawn up with a greater degree of formality and technical accuracy.')]"
      ]
     },
     "execution_count": 43,
     "metadata": {},
     "output_type": "execute_result"
    }
   ],
   "source": [
    "semantic_chunk_retriever.invoke(\"Which district is mentioned?\")"
   ]
  },
  {
   "cell_type": "markdown",
   "metadata": {},
   "source": [
    "# CONDITIONAL RAG"
   ]
  },
  {
   "cell_type": "code",
   "execution_count": 15,
   "metadata": {},
   "outputs": [],
   "source": [
    "from langchain_ollama import OllamaLLM\n",
    "from typing import TypedDict, List\n",
    "from pydantic import BaseModel, Field\n",
    "from langchain_core.messages import BaseMessage, HumanMessage, AIMessage\n",
    "from langchain.output_parsers import PydanticOutputParser\n",
    "from langchain.prompts import ChatPromptTemplate\n",
    "from langgraph.graph import START, StateGraph\n",
    "from langgraph.checkpoint.memory import MemorySaver"
   ]
  },
  {
   "cell_type": "code",
   "execution_count": 16,
   "metadata": {},
   "outputs": [],
   "source": [
    "model = OllamaLLM(\n",
    "    model = \"mistral\"\n",
    ")"
   ]
  },
  {
   "cell_type": "markdown",
   "metadata": {},
   "source": [
    "### Workflow\n",
    "1. START - accepts the message/question\n",
    "2. CLASSIFICATION / TAGGING - tag the text for greetings, small talk or others\n",
    "3. ROUTER - RAG if Others, LLM if Greetings / Small talk\n",
    "4. - RAG : Retrieve and Generate\n",
    "  - LLM : Straight to LLM  \n",
    "5. Build the graph and add memorysaver"
   ]
  },
  {
   "cell_type": "markdown",
   "metadata": {},
   "source": [
    "# STEP 1: Classification / Tagging"
   ]
  },
  {
   "cell_type": "code",
   "execution_count": 17,
   "metadata": {},
   "outputs": [],
   "source": [
    "class State(TypedDict):\n",
    "    question: str\n",
    "    topic: str\n",
    "    context: List[Document]\n",
    "    answer: str\n",
    "    messages: List[BaseMessage]\n",
    "\n",
    "class TopicClassification(BaseModel):\n",
    "    topic:str = Field(description=\"Intent of the text - greetings, small talk, law, others\")\n",
    "\n",
    "parser = PydanticOutputParser(pydantic_object=TopicClassification)\n",
    "\n",
    "def classification(state: State):\n",
    "    \n",
    "    question = state[\"question\"]\n",
    "    categories = [\"Greetings\", \"Small Talk\", \"Law\", \"Others\"]\n",
    "    format_instructions = parser.get_format_instructions()\n",
    "    \n",
    "    prompt = ChatPromptTemplate.from_messages([\n",
    "    (\"system\", \"You are a text tagging bot. Classify the user's message into three categories: {categories}.\\n\\n \"\n",
    "     \"Output the result in the required JSON format.\"\n",
    "     \"\\n\\n{format_instructions}\"),\n",
    "    (\"human\", \"{question}\")\n",
    "    ])\n",
    "    chain = (\n",
    "        prompt.partial(format_instructions=format_instructions)\n",
    "        | model\n",
    "        | parser\n",
    "    )\n",
    "    response = chain.invoke({\"question\": question, \"categories\":\", \".join(categories)})\n",
    "    return {\"topic\": response.topic}"
   ]
  },
  {
   "cell_type": "markdown",
   "metadata": {},
   "source": [
    "## STEP 2: Router Logic"
   ]
  },
  {
   "cell_type": "code",
   "execution_count": 29,
   "metadata": {},
   "outputs": [],
   "source": [
    "def router(state: State):\n",
    "    print(state['topic'].lower())\n",
    "    if state[\"topic\"].lower() in [\"law\",\"others\"]:\n",
    "        return \"RAG\"\n",
    "    else:\n",
    "        return \"LLM\""
   ]
  },
  {
   "cell_type": "markdown",
   "metadata": {},
   "source": [
    "## STEP 3.1: RAG"
   ]
  },
  {
   "cell_type": "code",
   "execution_count": 44,
   "metadata": {},
   "outputs": [],
   "source": [
    "# RAG retrieve\n",
    "def rag_retrieve(state: State):\n",
    "    print(\"Entering RAG retrieve\")\n",
    "    # Recursive Text Splitter\n",
    "#     retrieved_docs = faiss_vectorstore.similarity_search(state[\"question\"], k=2)\n",
    "    # Semantic chunk retriever\n",
    "    retrieved_docs = semantic_chunk_retriever.invoke(state[\"question\"], k=2)\n",
    "    return {'context': retrieved_docs}"
   ]
  },
  {
   "cell_type": "code",
   "execution_count": 45,
   "metadata": {},
   "outputs": [],
   "source": [
    "# RAG generate\n",
    "def rag_generate(state: State):\n",
    "    print(\"Entering RAG generate\")\n",
    "    #Retrieve messages history and append current user question\n",
    "    messages = state.get(\"messages\", [])\n",
    "    messages.append(HumanMessage(content=state[\"question\"]))\n",
    "    \n",
    "    question = state[\"question\"]\n",
    "    context = \"\\n\\n\".join(doc.page_content for doc in state[\"context\"]) \n",
    "    qa_prompt = ChatPromptTemplate.from_template(\"\"\"Answer the following question based only on the provided context. \n",
    "If you cannot answer please respond with \"I don't know:\n",
    "    <context>\n",
    "    {context}\n",
    "    </context>\n",
    "    Question: {question}\"\"\")\n",
    "    \n",
    "    \n",
    "    \n",
    "    prompt = qa_prompt.invoke({\"question\": question, \"context\":context}).to_string()\n",
    "    # Append prompt to message history\n",
    "    messages.append(HumanMessage(content=prompt))\n",
    "    \n",
    "    # Call LLM with full conversation history including the current question and context\n",
    "    answer = model.invoke(messages)\n",
    "    messages.append(AIMessage(content=answer))\n",
    "    \n",
    "    return {'answer': answer, 'messages':messages}"
   ]
  },
  {
   "cell_type": "markdown",
   "metadata": {},
   "source": [
    "## STEP 3.2: LLM"
   ]
  },
  {
   "cell_type": "code",
   "execution_count": 46,
   "metadata": {},
   "outputs": [],
   "source": [
    "# LLM for small talk\n",
    "def small_talk(state: State):\n",
    "    print(\"Entering small talk\")\n",
    "#     question = state[\"question\"]\n",
    "    messages = state.get(\"messages\", [])\n",
    "    messages.append(HumanMessage(content=state[\"question\"]))\n",
    "#     answer = model.invoke(question)\n",
    "    answer = model.invoke(messages)\n",
    "    messages.append(AIMessage(content=answer))\n",
    "    \n",
    "    return {\"answer\": answer, \"messages\": messages}"
   ]
  },
  {
   "cell_type": "markdown",
   "metadata": {},
   "source": [
    "## STEP 4: Graph"
   ]
  },
  {
   "cell_type": "code",
   "execution_count": 47,
   "metadata": {},
   "outputs": [],
   "source": [
    "graph = StateGraph(State)\n",
    "graph.add_node(\"classify\", classification)\n",
    "graph.add_node(\"small_talk_llm\", small_talk)\n",
    "graph.add_node(\"rag_retrieve\", rag_retrieve)\n",
    "graph.add_node(\"rag_generate\", rag_generate)\n",
    "\n",
    "graph.add_edge(START, \"classify\")\n",
    "graph.add_conditional_edges(\"classify\", router, {\n",
    "    \"LLM\": \"small_talk_llm\",\n",
    "    \"RAG\": \"rag_retrieve\",\n",
    "})\n",
    "graph.add_edge(\"rag_retrieve\", \"rag_generate\")\n",
    "\n",
    "app = graph.compile(checkpointer=MemorySaver())"
   ]
  },
  {
   "cell_type": "code",
   "execution_count": 48,
   "metadata": {},
   "outputs": [
    {
     "name": "stdout",
     "output_type": "stream",
     "text": [
      "greetings\n",
      "Entering small talk\n"
     ]
    },
    {
     "data": {
      "text/plain": [
       "{'question': 'Hello my name is bob',\n",
       " 'topic': 'Greetings',\n",
       " 'answer': \" Hello Bob! It's nice to meet you. How can I help you today?\",\n",
       " 'messages': [HumanMessage(content='Hello my name is bob', additional_kwargs={}, response_metadata={}),\n",
       "  AIMessage(content=\" Hello Bob! It's nice to meet you. How can I help you today?\", additional_kwargs={}, response_metadata={})]}"
      ]
     },
     "execution_count": 48,
     "metadata": {},
     "output_type": "execute_result"
    }
   ],
   "source": [
    "config = {\"configurable\": {\"thread_id\": \"fwegtwg\"}}\n",
    "app.invoke({\"question\":\"Hello my name is bob\"}, config)"
   ]
  },
  {
   "cell_type": "code",
   "execution_count": 49,
   "metadata": {},
   "outputs": [
    {
     "name": "stdout",
     "output_type": "stream",
     "text": [
      "others\n",
      "Entering RAG retrieve\n",
      "Entering RAG generate\n"
     ]
    },
    {
     "data": {
      "text/plain": [
       "{'question': 'Do you know the case titles?',\n",
       " 'topic': 'Others',\n",
       " 'context': [Document(id='6a58b8e1-71a6-4171-b9d5-04fa944b29d2', metadata={}, page_content='the accused : 1st. That the affidavit upon which the warrant of arrest was issued, is defective. 2d.'),\n",
       "  Document(id='b44bb966-f2e4-4360-a644-354a89949a5a', metadata={}, page_content='Semple and John B. Weller, for tbe applicants, and by G. J. O. Keioen, (attorney general,) for tbe people. By the Court. Bennett, J. This case comes up on tbe petition of the defendants to be discharged from, the custody of the sheriff of')],\n",
       " 'answer': ' Based on the provided context, it appears that the case title is not explicitly stated in the text. However, a possible deduction for the case title could be \"The People vs. [Defendants\\' Names],\" as it seems to be a criminal case with one party being represented by the Attorney General (for the people). But without more context or an explicit mention of the case title, this is just an educated guess.',\n",
       " 'messages': [HumanMessage(content='Hello my name is bob', additional_kwargs={}, response_metadata={}),\n",
       "  AIMessage(content=\" Hello Bob! It's nice to meet you. How can I help you today?\", additional_kwargs={}, response_metadata={}),\n",
       "  HumanMessage(content='Do you know the case titles?', additional_kwargs={}, response_metadata={}),\n",
       "  HumanMessage(content='Human: Answer the following question based only on the provided context. \\nIf you cannot answer please respond with \"I don\\'t know:\\n    <context>\\n    the accused : 1st. That the affidavit upon which the warrant of arrest was issued, is defective. 2d.\\n\\nSemple and John B. Weller, for tbe applicants, and by G. J. O. Keioen, (attorney general,) for tbe people. By the Court. Bennett, J. This case comes up on tbe petition of the defendants to be discharged from, the custody of the sheriff of\\n    </context>\\n    Question: Do you know the case titles?', additional_kwargs={}, response_metadata={}),\n",
       "  AIMessage(content=' Based on the provided context, it appears that the case title is not explicitly stated in the text. However, a possible deduction for the case title could be \"The People vs. [Defendants\\' Names],\" as it seems to be a criminal case with one party being represented by the Attorney General (for the people). But without more context or an explicit mention of the case title, this is just an educated guess.', additional_kwargs={}, response_metadata={})]}"
      ]
     },
     "execution_count": 49,
     "metadata": {},
     "output_type": "execute_result"
    }
   ],
   "source": [
    "app.invoke({\"question\":\"Do you know the case titles?\"}, config)"
   ]
  },
  {
   "cell_type": "code",
   "execution_count": 50,
   "metadata": {},
   "outputs": [
    {
     "name": "stdout",
     "output_type": "stream",
     "text": [
      "others\n",
      "Entering RAG retrieve\n",
      "Entering RAG generate\n"
     ]
    },
    {
     "data": {
      "text/plain": [
       "{'question': 'What happened in Nappa Valley?',\n",
       " 'topic': 'Others',\n",
       " 'context': [Document(id='cd59bbb1-c35c-4e8f-8dd7-9b0553e486ca', metadata={}, page_content='comes up on tbe petition of the defendants to be discharged from, the custody of the sheriff of the district of Sonoma, under a writ of habeas corpus heretofore issued by this court. The return of the sheriff shows that the petitioners are detained by him by virtue of an order of the judge of First Instance of the distinct of Sonoma, and that such order was made upon the return of a warrant of arrest against the defendants, charging them with the commission of various felonious acts. Accompanying the return of the sheriff is also to be found a large amount of testimony taken on the examination, going to show that several Indians in the Nappa Valley were shot on the 2Ith day of February last, their lodges burned, and a considerable quantity of wheat, barley, and other property destroyed, and tending to fix tbe perpetration of these acts upon tbe petitioners. It is claimed by the counsel for the accused : 1st.'),\n",
       "  Document(id='e745ba0e-05b9-463a-b289-3a94fdc3d35c', metadata={}, page_content='by the prisoner. *10 Where it appeared on the return to a writ of habeas corpus that there was reasonable ground to believe that the prisoners were guilty of burning certain Indian lodges in the Nappa Valley, and of killing several Indians, and perpetrating other outrages, they were, nevertheless, admitted to bail, on the grounds solely that the district courts had not as yet been organized, nor their terms fixed, nor the judges appointed, and that there was no secure place in which the prisoners could be kept until they could be brought to trial. It. seems, had not these reasons existed, the prisoners would have been remanded to the custody of the sheriff. The facts are sufficiently stated in the opinion of the court. The cause was argued by O. I).')],\n",
       " 'answer': \" Based on the provided context, it appears that several Indian lodges were burned and several Indians were shot in Nappa Valley on February 21st. Additionally, a considerable quantity of wheat, barley, and other property were destroyed. These actions are attributed to the defendants in question. However, it's important to note that this is a summary based on the provided text and there might be more details not mentioned in the context.\",\n",
       " 'messages': [HumanMessage(content='Hello my name is bob', additional_kwargs={}, response_metadata={}),\n",
       "  AIMessage(content=\" Hello Bob! It's nice to meet you. How can I help you today?\", additional_kwargs={}, response_metadata={}),\n",
       "  HumanMessage(content='Do you know the case titles?', additional_kwargs={}, response_metadata={}),\n",
       "  HumanMessage(content='Human: Answer the following question based only on the provided context. \\nIf you cannot answer please respond with \"I don\\'t know:\\n    <context>\\n    the accused : 1st. That the affidavit upon which the warrant of arrest was issued, is defective. 2d.\\n\\nSemple and John B. Weller, for tbe applicants, and by G. J. O. Keioen, (attorney general,) for tbe people. By the Court. Bennett, J. This case comes up on tbe petition of the defendants to be discharged from, the custody of the sheriff of\\n    </context>\\n    Question: Do you know the case titles?', additional_kwargs={}, response_metadata={}),\n",
       "  AIMessage(content=' Based on the provided context, it appears that the case title is not explicitly stated in the text. However, a possible deduction for the case title could be \"The People vs. [Defendants\\' Names],\" as it seems to be a criminal case with one party being represented by the Attorney General (for the people). But without more context or an explicit mention of the case title, this is just an educated guess.', additional_kwargs={}, response_metadata={}),\n",
       "  HumanMessage(content='What happened in Nappa Valley?', additional_kwargs={}, response_metadata={}),\n",
       "  HumanMessage(content='Human: Answer the following question based only on the provided context. \\nIf you cannot answer please respond with \"I don\\'t know:\\n    <context>\\n    comes up on tbe petition of the defendants to be discharged from, the custody of the sheriff of the district of Sonoma, under a writ of habeas corpus heretofore issued by this court. The return of the sheriff shows that the petitioners are detained by him by virtue of an order of the judge of First Instance of the distinct of Sonoma, and that such order was made upon the return of a warrant of arrest against the defendants, charging them with the commission of various felonious acts. Accompanying the return of the sheriff is also to be found a large amount of testimony taken on the examination, going to show that several Indians in the Nappa Valley were shot on the 2Ith day of February last, their lodges burned, and a considerable quantity of wheat, barley, and other property destroyed, and tending to fix tbe perpetration of these acts upon tbe petitioners. It is claimed by the counsel for the accused : 1st.\\n\\nby the prisoner. *10 Where it appeared on the return to a writ of habeas corpus that there was reasonable ground to believe that the prisoners were guilty of burning certain Indian lodges in the Nappa Valley, and of killing several Indians, and perpetrating other outrages, they were, nevertheless, admitted to bail, on the grounds solely that the district courts had not as yet been organized, nor their terms fixed, nor the judges appointed, and that there was no secure place in which the prisoners could be kept until they could be brought to trial. It. seems, had not these reasons existed, the prisoners would have been remanded to the custody of the sheriff. The facts are sufficiently stated in the opinion of the court. The cause was argued by O. I).\\n    </context>\\n    Question: What happened in Nappa Valley?', additional_kwargs={}, response_metadata={}),\n",
       "  AIMessage(content=\" Based on the provided context, it appears that several Indian lodges were burned and several Indians were shot in Nappa Valley on February 21st. Additionally, a considerable quantity of wheat, barley, and other property were destroyed. These actions are attributed to the defendants in question. However, it's important to note that this is a summary based on the provided text and there might be more details not mentioned in the context.\", additional_kwargs={}, response_metadata={})]}"
      ]
     },
     "execution_count": 50,
     "metadata": {},
     "output_type": "execute_result"
    }
   ],
   "source": [
    "app.invoke({\"question\":\"What happened in Nappa Valley?\"}, config)"
   ]
  },
  {
   "cell_type": "code",
   "execution_count": 51,
   "metadata": {},
   "outputs": [
    {
     "name": "stdout",
     "output_type": "stream",
     "text": [
      "law\n",
      "Entering RAG retrieve\n",
      "Entering RAG generate\n"
     ]
    },
    {
     "data": {
      "text/plain": [
       "{'question': 'Who are the defendents?',\n",
       " 'topic': 'Law',\n",
       " 'context': [Document(id='1559295d-74d0-4088-8563-0aeba0c3d748', metadata={}, page_content='(Id. 43.) The same power is conferred upon a variety of officers in England and the United States by simply declaring them by statute to be conservators of the peace ; and the constitution of this state confers the same authority in the same terms, upon the justices of this court and the district judges. Being conservators of the peace, the judges of First *14 Instance may'),\n",
       "  Document(id='18867aab-a150-43ff-b998-f0e0c97693d0', metadata={}, page_content='in positive terms as within the knowledge of the deponent, the commission of the offences charged therein, and to proceed upon information as to the names only of the persons who were guilty of the perpetration of them.')],\n",
       " 'answer': \" Based on the provided context, it's not explicitly stated who the defendants are in this text. The focus is more on the authority of judges as conservators of the peace and their ability to act upon information about offenses committed by specific individuals. Without further context, I cannot identify the defendants mentioned in the text.\",\n",
       " 'messages': [HumanMessage(content='Hello my name is bob', additional_kwargs={}, response_metadata={}),\n",
       "  AIMessage(content=\" Hello Bob! It's nice to meet you. How can I help you today?\", additional_kwargs={}, response_metadata={}),\n",
       "  HumanMessage(content='Do you know the case titles?', additional_kwargs={}, response_metadata={}),\n",
       "  HumanMessage(content='Human: Answer the following question based only on the provided context. \\nIf you cannot answer please respond with \"I don\\'t know:\\n    <context>\\n    the accused : 1st. That the affidavit upon which the warrant of arrest was issued, is defective. 2d.\\n\\nSemple and John B. Weller, for tbe applicants, and by G. J. O. Keioen, (attorney general,) for tbe people. By the Court. Bennett, J. This case comes up on tbe petition of the defendants to be discharged from, the custody of the sheriff of\\n    </context>\\n    Question: Do you know the case titles?', additional_kwargs={}, response_metadata={}),\n",
       "  AIMessage(content=' Based on the provided context, it appears that the case title is not explicitly stated in the text. However, a possible deduction for the case title could be \"The People vs. [Defendants\\' Names],\" as it seems to be a criminal case with one party being represented by the Attorney General (for the people). But without more context or an explicit mention of the case title, this is just an educated guess.', additional_kwargs={}, response_metadata={}),\n",
       "  HumanMessage(content='What happened in Nappa Valley?', additional_kwargs={}, response_metadata={}),\n",
       "  HumanMessage(content='Human: Answer the following question based only on the provided context. \\nIf you cannot answer please respond with \"I don\\'t know:\\n    <context>\\n    comes up on tbe petition of the defendants to be discharged from, the custody of the sheriff of the district of Sonoma, under a writ of habeas corpus heretofore issued by this court. The return of the sheriff shows that the petitioners are detained by him by virtue of an order of the judge of First Instance of the distinct of Sonoma, and that such order was made upon the return of a warrant of arrest against the defendants, charging them with the commission of various felonious acts. Accompanying the return of the sheriff is also to be found a large amount of testimony taken on the examination, going to show that several Indians in the Nappa Valley were shot on the 2Ith day of February last, their lodges burned, and a considerable quantity of wheat, barley, and other property destroyed, and tending to fix tbe perpetration of these acts upon tbe petitioners. It is claimed by the counsel for the accused : 1st.\\n\\nby the prisoner. *10 Where it appeared on the return to a writ of habeas corpus that there was reasonable ground to believe that the prisoners were guilty of burning certain Indian lodges in the Nappa Valley, and of killing several Indians, and perpetrating other outrages, they were, nevertheless, admitted to bail, on the grounds solely that the district courts had not as yet been organized, nor their terms fixed, nor the judges appointed, and that there was no secure place in which the prisoners could be kept until they could be brought to trial. It. seems, had not these reasons existed, the prisoners would have been remanded to the custody of the sheriff. The facts are sufficiently stated in the opinion of the court. The cause was argued by O. I).\\n    </context>\\n    Question: What happened in Nappa Valley?', additional_kwargs={}, response_metadata={}),\n",
       "  AIMessage(content=\" Based on the provided context, it appears that several Indian lodges were burned and several Indians were shot in Nappa Valley on February 21st. Additionally, a considerable quantity of wheat, barley, and other property were destroyed. These actions are attributed to the defendants in question. However, it's important to note that this is a summary based on the provided text and there might be more details not mentioned in the context.\", additional_kwargs={}, response_metadata={}),\n",
       "  HumanMessage(content='Who are the defendents?', additional_kwargs={}, response_metadata={}),\n",
       "  HumanMessage(content='Human: Answer the following question based only on the provided context. \\nIf you cannot answer please respond with \"I don\\'t know:\\n    <context>\\n    (Id. 43.) The same power is conferred upon a variety of officers in England and the United States by simply declaring them by statute to be conservators of the peace ; and the constitution of this state confers the same authority in the same terms, upon the justices of this court and the district judges. Being conservators of the peace, the judges of First *14 Instance may\\n\\nin positive terms as within the knowledge of the deponent, the commission of the offences charged therein, and to proceed upon information as to the names only of the persons who were guilty of the perpetration of them.\\n    </context>\\n    Question: Who are the defendents?', additional_kwargs={}, response_metadata={}),\n",
       "  AIMessage(content=\" Based on the provided context, it's not explicitly stated who the defendants are in this text. The focus is more on the authority of judges as conservators of the peace and their ability to act upon information about offenses committed by specific individuals. Without further context, I cannot identify the defendants mentioned in the text.\", additional_kwargs={}, response_metadata={})]}"
      ]
     },
     "execution_count": 51,
     "metadata": {},
     "output_type": "execute_result"
    }
   ],
   "source": [
    "app.invoke({\"question\":\"Who are the defendents?\"}, config)"
   ]
  },
  {
   "cell_type": "code",
   "execution_count": 52,
   "metadata": {},
   "outputs": [
    {
     "name": "stdout",
     "output_type": "stream",
     "text": [
      "law\n",
      "Entering RAG retrieve\n",
      "Entering RAG generate\n"
     ]
    },
    {
     "data": {
      "text/plain": [
       "{'question': 'What is mentioned about the digest of the mexican law?',\n",
       " 'topic': 'Law',\n",
       " 'context': [Document(id='b0ac50dd-fa66-4666-8b3e-bba70c94bfdd', metadata={}, page_content='of sec. 2d, part 2d, Halleck’s *17 Translation anti Digest of Mexican Laws, it is declared, “ that in the trial of causes which exceed $100, but do not exceed $200, the judges shall take cognizance by means of a written process according to law, but without appeal, except the laws have been violated which regulate the mode of proceeding.” From which we infer that the courts of First Instance, so long as they comply with the ordinary rules of practice, and do not violate the laws regulating practice in their courts, have exclusive jurisdiction in all controversies where the matter in dispute shall not exceed $200, and shall exceed $100 ; and no court can review by appeal their judgments in such cases. Entertaining these views, we do not think it'),\n",
       "  Document(id='202529d6-92f0-4a75-acf3-8220d35bbe1b', metadata={}, page_content='the point under consideration together, they confer upon this court appellate jurisdiction over judgments rendered in the court of First Instance, in all cases where the court of Second Instance, under the Mexican system, would have had such jurisdiction. I think that the appeal should be entertained, and dissent from the conclusion to which the majority of the court have arrived.')],\n",
       " 'answer': ' The provided context mentions the Digest of Mexican Laws by Halleck, specifically section 2d, part 2d. According to this text, in trials for causes that exceed $100 but do not exceed $200, judges shall take cognizance by means of a written process according to law, without appeal, except the laws have been violated which regulate the mode of proceeding. This implies that the courts of First Instance have exclusive jurisdiction in all controversies where the matter in dispute exceeds $100 and does not exceed $200, and no court can review by appeal their judgments in such cases. The text also suggests that this court has appellate jurisdiction over judgments rendered in the court of First Instance, in all cases where the court of Second Instance, under the Mexican system, would have had such jurisdiction.',\n",
       " 'messages': [HumanMessage(content='Hello my name is bob', additional_kwargs={}, response_metadata={}),\n",
       "  AIMessage(content=\" Hello Bob! It's nice to meet you. How can I help you today?\", additional_kwargs={}, response_metadata={}),\n",
       "  HumanMessage(content='Do you know the case titles?', additional_kwargs={}, response_metadata={}),\n",
       "  HumanMessage(content='Human: Answer the following question based only on the provided context. \\nIf you cannot answer please respond with \"I don\\'t know:\\n    <context>\\n    the accused : 1st. That the affidavit upon which the warrant of arrest was issued, is defective. 2d.\\n\\nSemple and John B. Weller, for tbe applicants, and by G. J. O. Keioen, (attorney general,) for tbe people. By the Court. Bennett, J. This case comes up on tbe petition of the defendants to be discharged from, the custody of the sheriff of\\n    </context>\\n    Question: Do you know the case titles?', additional_kwargs={}, response_metadata={}),\n",
       "  AIMessage(content=' Based on the provided context, it appears that the case title is not explicitly stated in the text. However, a possible deduction for the case title could be \"The People vs. [Defendants\\' Names],\" as it seems to be a criminal case with one party being represented by the Attorney General (for the people). But without more context or an explicit mention of the case title, this is just an educated guess.', additional_kwargs={}, response_metadata={}),\n",
       "  HumanMessage(content='What happened in Nappa Valley?', additional_kwargs={}, response_metadata={}),\n",
       "  HumanMessage(content='Human: Answer the following question based only on the provided context. \\nIf you cannot answer please respond with \"I don\\'t know:\\n    <context>\\n    comes up on tbe petition of the defendants to be discharged from, the custody of the sheriff of the district of Sonoma, under a writ of habeas corpus heretofore issued by this court. The return of the sheriff shows that the petitioners are detained by him by virtue of an order of the judge of First Instance of the distinct of Sonoma, and that such order was made upon the return of a warrant of arrest against the defendants, charging them with the commission of various felonious acts. Accompanying the return of the sheriff is also to be found a large amount of testimony taken on the examination, going to show that several Indians in the Nappa Valley were shot on the 2Ith day of February last, their lodges burned, and a considerable quantity of wheat, barley, and other property destroyed, and tending to fix tbe perpetration of these acts upon tbe petitioners. It is claimed by the counsel for the accused : 1st.\\n\\nby the prisoner. *10 Where it appeared on the return to a writ of habeas corpus that there was reasonable ground to believe that the prisoners were guilty of burning certain Indian lodges in the Nappa Valley, and of killing several Indians, and perpetrating other outrages, they were, nevertheless, admitted to bail, on the grounds solely that the district courts had not as yet been organized, nor their terms fixed, nor the judges appointed, and that there was no secure place in which the prisoners could be kept until they could be brought to trial. It. seems, had not these reasons existed, the prisoners would have been remanded to the custody of the sheriff. The facts are sufficiently stated in the opinion of the court. The cause was argued by O. I).\\n    </context>\\n    Question: What happened in Nappa Valley?', additional_kwargs={}, response_metadata={}),\n",
       "  AIMessage(content=\" Based on the provided context, it appears that several Indian lodges were burned and several Indians were shot in Nappa Valley on February 21st. Additionally, a considerable quantity of wheat, barley, and other property were destroyed. These actions are attributed to the defendants in question. However, it's important to note that this is a summary based on the provided text and there might be more details not mentioned in the context.\", additional_kwargs={}, response_metadata={}),\n",
       "  HumanMessage(content='Who are the defendents?', additional_kwargs={}, response_metadata={}),\n",
       "  HumanMessage(content='Human: Answer the following question based only on the provided context. \\nIf you cannot answer please respond with \"I don\\'t know:\\n    <context>\\n    (Id. 43.) The same power is conferred upon a variety of officers in England and the United States by simply declaring them by statute to be conservators of the peace ; and the constitution of this state confers the same authority in the same terms, upon the justices of this court and the district judges. Being conservators of the peace, the judges of First *14 Instance may\\n\\nin positive terms as within the knowledge of the deponent, the commission of the offences charged therein, and to proceed upon information as to the names only of the persons who were guilty of the perpetration of them.\\n    </context>\\n    Question: Who are the defendents?', additional_kwargs={}, response_metadata={}),\n",
       "  AIMessage(content=\" Based on the provided context, it's not explicitly stated who the defendants are in this text. The focus is more on the authority of judges as conservators of the peace and their ability to act upon information about offenses committed by specific individuals. Without further context, I cannot identify the defendants mentioned in the text.\", additional_kwargs={}, response_metadata={}),\n",
       "  HumanMessage(content='What is mentioned about the digest of the mexican law?', additional_kwargs={}, response_metadata={}),\n",
       "  HumanMessage(content='Human: Answer the following question based only on the provided context. \\nIf you cannot answer please respond with \"I don\\'t know:\\n    <context>\\n    of sec. 2d, part 2d, Halleck’s *17 Translation anti Digest of Mexican Laws, it is declared, “ that in the trial of causes which exceed $100, but do not exceed $200, the judges shall take cognizance by means of a written process according to law, but without appeal, except the laws have been violated which regulate the mode of proceeding.” From which we infer that the courts of First Instance, so long as they comply with the ordinary rules of practice, and do not violate the laws regulating practice in their courts, have exclusive jurisdiction in all controversies where the matter in dispute shall not exceed $200, and shall exceed $100 ; and no court can review by appeal their judgments in such cases. Entertaining these views, we do not think it\\n\\nthe point under consideration together, they confer upon this court appellate jurisdiction over judgments rendered in the court of First Instance, in all cases where the court of Second Instance, under the Mexican system, would have had such jurisdiction. I think that the appeal should be entertained, and dissent from the conclusion to which the majority of the court have arrived.\\n    </context>\\n    Question: What is mentioned about the digest of the mexican law?', additional_kwargs={}, response_metadata={}),\n",
       "  AIMessage(content=' The provided context mentions the Digest of Mexican Laws by Halleck, specifically section 2d, part 2d. According to this text, in trials for causes that exceed $100 but do not exceed $200, judges shall take cognizance by means of a written process according to law, without appeal, except the laws have been violated which regulate the mode of proceeding. This implies that the courts of First Instance have exclusive jurisdiction in all controversies where the matter in dispute exceeds $100 and does not exceed $200, and no court can review by appeal their judgments in such cases. The text also suggests that this court has appellate jurisdiction over judgments rendered in the court of First Instance, in all cases where the court of Second Instance, under the Mexican system, would have had such jurisdiction.', additional_kwargs={}, response_metadata={})]}"
      ]
     },
     "execution_count": 52,
     "metadata": {},
     "output_type": "execute_result"
    }
   ],
   "source": [
    "app.invoke({\"question\":\"What is mentioned about the digest of the mexican law?\"}, config)"
   ]
  },
  {
   "cell_type": "code",
   "execution_count": 53,
   "metadata": {},
   "outputs": [
    {
     "name": "stdout",
     "output_type": "stream",
     "text": [
      "law\n",
      "Entering RAG retrieve\n",
      "Entering RAG generate\n"
     ]
    },
    {
     "data": {
      "text/plain": [
       "{'question': 'What is the verdict in the Luther va Master and Owners of Ship Apollo case?',\n",
       " 'topic': 'Law',\n",
       " 'context': [Document(id='219b435a-7cdd-4ded-87b1-3d6d5f31b7a6', metadata={}, page_content=\"Luther, respondent, vs. The Master and Owners of Ship Apollo, appellants. This court has no jurisdiction of an appeal from the court of First Instance, where the judgment appealed from is for less than the sum of two hundred dollars; and •where an appeal was brought from a judgment of $166 80, it was ordered that the appeal should be dismissed with costs. The facts are sufficiently stated in the opinion of the court. The cause was argued exjyarte, by Horace Hawes, for the appellants. By the Court, Hastings, Ch. J. This was an action instituted before the court of First Instance for the district of San Francisco, for the recovery of seaman's wages, amounting to the sum of $166 *16 80, and judgment was rendered for the appellee in the sum of $100. The 4th sec.\"),\n",
       "  Document(id='bb31c645-b851-4a44-b2d3-cf20ea134761', metadata={}, page_content='and the district judges. Being conservators of the peace, the judges of First *14 Instance may legally act in the apprehension and commitment of offenders against the law; and the proceedings before us are not invalid upon the ground of want of jurisdiction in the officer who made the commitment. There are in addition to the views already taken of the case, reasons which render a discharge of the prisoners improper.')],\n",
       " 'answer': \" Based on the provided context, it's not possible to determine the verdict in the Luther v. Master and Owners of Ship Apollo case as that specific case is not mentioned in the text. The text discusses the jurisdiction of courts in general and the case being referred to is a different one about the authority of judges as conservators of the peace.\",\n",
       " 'messages': [HumanMessage(content='Hello my name is bob', additional_kwargs={}, response_metadata={}),\n",
       "  AIMessage(content=\" Hello Bob! It's nice to meet you. How can I help you today?\", additional_kwargs={}, response_metadata={}),\n",
       "  HumanMessage(content='Do you know the case titles?', additional_kwargs={}, response_metadata={}),\n",
       "  HumanMessage(content='Human: Answer the following question based only on the provided context. \\nIf you cannot answer please respond with \"I don\\'t know:\\n    <context>\\n    the accused : 1st. That the affidavit upon which the warrant of arrest was issued, is defective. 2d.\\n\\nSemple and John B. Weller, for tbe applicants, and by G. J. O. Keioen, (attorney general,) for tbe people. By the Court. Bennett, J. This case comes up on tbe petition of the defendants to be discharged from, the custody of the sheriff of\\n    </context>\\n    Question: Do you know the case titles?', additional_kwargs={}, response_metadata={}),\n",
       "  AIMessage(content=' Based on the provided context, it appears that the case title is not explicitly stated in the text. However, a possible deduction for the case title could be \"The People vs. [Defendants\\' Names],\" as it seems to be a criminal case with one party being represented by the Attorney General (for the people). But without more context or an explicit mention of the case title, this is just an educated guess.', additional_kwargs={}, response_metadata={}),\n",
       "  HumanMessage(content='What happened in Nappa Valley?', additional_kwargs={}, response_metadata={}),\n",
       "  HumanMessage(content='Human: Answer the following question based only on the provided context. \\nIf you cannot answer please respond with \"I don\\'t know:\\n    <context>\\n    comes up on tbe petition of the defendants to be discharged from, the custody of the sheriff of the district of Sonoma, under a writ of habeas corpus heretofore issued by this court. The return of the sheriff shows that the petitioners are detained by him by virtue of an order of the judge of First Instance of the distinct of Sonoma, and that such order was made upon the return of a warrant of arrest against the defendants, charging them with the commission of various felonious acts. Accompanying the return of the sheriff is also to be found a large amount of testimony taken on the examination, going to show that several Indians in the Nappa Valley were shot on the 2Ith day of February last, their lodges burned, and a considerable quantity of wheat, barley, and other property destroyed, and tending to fix tbe perpetration of these acts upon tbe petitioners. It is claimed by the counsel for the accused : 1st.\\n\\nby the prisoner. *10 Where it appeared on the return to a writ of habeas corpus that there was reasonable ground to believe that the prisoners were guilty of burning certain Indian lodges in the Nappa Valley, and of killing several Indians, and perpetrating other outrages, they were, nevertheless, admitted to bail, on the grounds solely that the district courts had not as yet been organized, nor their terms fixed, nor the judges appointed, and that there was no secure place in which the prisoners could be kept until they could be brought to trial. It. seems, had not these reasons existed, the prisoners would have been remanded to the custody of the sheriff. The facts are sufficiently stated in the opinion of the court. The cause was argued by O. I).\\n    </context>\\n    Question: What happened in Nappa Valley?', additional_kwargs={}, response_metadata={}),\n",
       "  AIMessage(content=\" Based on the provided context, it appears that several Indian lodges were burned and several Indians were shot in Nappa Valley on February 21st. Additionally, a considerable quantity of wheat, barley, and other property were destroyed. These actions are attributed to the defendants in question. However, it's important to note that this is a summary based on the provided text and there might be more details not mentioned in the context.\", additional_kwargs={}, response_metadata={}),\n",
       "  HumanMessage(content='Who are the defendents?', additional_kwargs={}, response_metadata={}),\n",
       "  HumanMessage(content='Human: Answer the following question based only on the provided context. \\nIf you cannot answer please respond with \"I don\\'t know:\\n    <context>\\n    (Id. 43.) The same power is conferred upon a variety of officers in England and the United States by simply declaring them by statute to be conservators of the peace ; and the constitution of this state confers the same authority in the same terms, upon the justices of this court and the district judges. Being conservators of the peace, the judges of First *14 Instance may\\n\\nin positive terms as within the knowledge of the deponent, the commission of the offences charged therein, and to proceed upon information as to the names only of the persons who were guilty of the perpetration of them.\\n    </context>\\n    Question: Who are the defendents?', additional_kwargs={}, response_metadata={}),\n",
       "  AIMessage(content=\" Based on the provided context, it's not explicitly stated who the defendants are in this text. The focus is more on the authority of judges as conservators of the peace and their ability to act upon information about offenses committed by specific individuals. Without further context, I cannot identify the defendants mentioned in the text.\", additional_kwargs={}, response_metadata={}),\n",
       "  HumanMessage(content='What is mentioned about the digest of the mexican law?', additional_kwargs={}, response_metadata={}),\n",
       "  HumanMessage(content='Human: Answer the following question based only on the provided context. \\nIf you cannot answer please respond with \"I don\\'t know:\\n    <context>\\n    of sec. 2d, part 2d, Halleck’s *17 Translation anti Digest of Mexican Laws, it is declared, “ that in the trial of causes which exceed $100, but do not exceed $200, the judges shall take cognizance by means of a written process according to law, but without appeal, except the laws have been violated which regulate the mode of proceeding.” From which we infer that the courts of First Instance, so long as they comply with the ordinary rules of practice, and do not violate the laws regulating practice in their courts, have exclusive jurisdiction in all controversies where the matter in dispute shall not exceed $200, and shall exceed $100 ; and no court can review by appeal their judgments in such cases. Entertaining these views, we do not think it\\n\\nthe point under consideration together, they confer upon this court appellate jurisdiction over judgments rendered in the court of First Instance, in all cases where the court of Second Instance, under the Mexican system, would have had such jurisdiction. I think that the appeal should be entertained, and dissent from the conclusion to which the majority of the court have arrived.\\n    </context>\\n    Question: What is mentioned about the digest of the mexican law?', additional_kwargs={}, response_metadata={}),\n",
       "  AIMessage(content=' The provided context mentions the Digest of Mexican Laws by Halleck, specifically section 2d, part 2d. According to this text, in trials for causes that exceed $100 but do not exceed $200, judges shall take cognizance by means of a written process according to law, without appeal, except the laws have been violated which regulate the mode of proceeding. This implies that the courts of First Instance have exclusive jurisdiction in all controversies where the matter in dispute exceeds $100 and does not exceed $200, and no court can review by appeal their judgments in such cases. The text also suggests that this court has appellate jurisdiction over judgments rendered in the court of First Instance, in all cases where the court of Second Instance, under the Mexican system, would have had such jurisdiction.', additional_kwargs={}, response_metadata={}),\n",
       "  HumanMessage(content='What is the verdict in the Luther va Master and Owners of Ship Apollo case?', additional_kwargs={}, response_metadata={}),\n",
       "  HumanMessage(content='Human: Answer the following question based only on the provided context. \\nIf you cannot answer please respond with \"I don\\'t know:\\n    <context>\\n    Luther, respondent, vs. The Master and Owners of Ship Apollo, appellants. This court has no jurisdiction of an appeal from the court of First Instance, where the judgment appealed from is for less than the sum of two hundred dollars; and •where an appeal was brought from a judgment of $166 80, it was ordered that the appeal should be dismissed with costs. The facts are sufficiently stated in the opinion of the court. The cause was argued exjyarte, by Horace Hawes, for the appellants. By the Court, Hastings, Ch. J. This was an action instituted before the court of First Instance for the district of San Francisco, for the recovery of seaman\\'s wages, amounting to the sum of $166 *16 80, and judgment was rendered for the appellee in the sum of $100. The 4th sec.\\n\\nand the district judges. Being conservators of the peace, the judges of First *14 Instance may legally act in the apprehension and commitment of offenders against the law; and the proceedings before us are not invalid upon the ground of want of jurisdiction in the officer who made the commitment. There are in addition to the views already taken of the case, reasons which render a discharge of the prisoners improper.\\n    </context>\\n    Question: What is the verdict in the Luther va Master and Owners of Ship Apollo case?', additional_kwargs={}, response_metadata={}),\n",
       "  AIMessage(content=\" Based on the provided context, it's not possible to determine the verdict in the Luther v. Master and Owners of Ship Apollo case as that specific case is not mentioned in the text. The text discusses the jurisdiction of courts in general and the case being referred to is a different one about the authority of judges as conservators of the peace.\", additional_kwargs={}, response_metadata={})]}"
      ]
     },
     "execution_count": 53,
     "metadata": {},
     "output_type": "execute_result"
    }
   ],
   "source": [
    "app.invoke({\"question\":\"What is the verdict in the Luther va Master and Owners of Ship Apollo case?\"}, config)"
   ]
  },
  {
   "cell_type": "code",
   "execution_count": 54,
   "metadata": {},
   "outputs": [
    {
     "name": "stdout",
     "output_type": "stream",
     "text": [
      "law\n",
      "Entering RAG retrieve\n",
      "Entering RAG generate\n"
     ]
    },
    {
     "data": {
      "text/plain": [
       "{'question': 'What is the Luther case about?',\n",
       " 'topic': 'Law',\n",
       " 'context': [Document(id='219b435a-7cdd-4ded-87b1-3d6d5f31b7a6', metadata={}, page_content=\"Luther, respondent, vs. The Master and Owners of Ship Apollo, appellants. This court has no jurisdiction of an appeal from the court of First Instance, where the judgment appealed from is for less than the sum of two hundred dollars; and •where an appeal was brought from a judgment of $166 80, it was ordered that the appeal should be dismissed with costs. The facts are sufficiently stated in the opinion of the court. The cause was argued exjyarte, by Horace Hawes, for the appellants. By the Court, Hastings, Ch. J. This was an action instituted before the court of First Instance for the district of San Francisco, for the recovery of seaman's wages, amounting to the sum of $166 *16 80, and judgment was rendered for the appellee in the sum of $100. The 4th sec.\"),\n",
       "  Document(id='bb31c645-b851-4a44-b2d3-cf20ea134761', metadata={}, page_content='and the district judges. Being conservators of the peace, the judges of First *14 Instance may legally act in the apprehension and commitment of offenders against the law; and the proceedings before us are not invalid upon the ground of want of jurisdiction in the officer who made the commitment. There are in addition to the views already taken of the case, reasons which render a discharge of the prisoners improper.')],\n",
       " 'answer': \" Based on the provided context, the Luther case appears to be a legal dispute related to seaman's wages. The case was instituted before the court of First Instance for the district of San Francisco and the judgment rendered was for $100, which was lower than the amount claimed by the respondent (Luther). However, without more context it is not possible to determine the specific details or the outcome of the case beyond this information.\",\n",
       " 'messages': [HumanMessage(content='Hello my name is bob', additional_kwargs={}, response_metadata={}),\n",
       "  AIMessage(content=\" Hello Bob! It's nice to meet you. How can I help you today?\", additional_kwargs={}, response_metadata={}),\n",
       "  HumanMessage(content='Do you know the case titles?', additional_kwargs={}, response_metadata={}),\n",
       "  HumanMessage(content='Human: Answer the following question based only on the provided context. \\nIf you cannot answer please respond with \"I don\\'t know:\\n    <context>\\n    the accused : 1st. That the affidavit upon which the warrant of arrest was issued, is defective. 2d.\\n\\nSemple and John B. Weller, for tbe applicants, and by G. J. O. Keioen, (attorney general,) for tbe people. By the Court. Bennett, J. This case comes up on tbe petition of the defendants to be discharged from, the custody of the sheriff of\\n    </context>\\n    Question: Do you know the case titles?', additional_kwargs={}, response_metadata={}),\n",
       "  AIMessage(content=' Based on the provided context, it appears that the case title is not explicitly stated in the text. However, a possible deduction for the case title could be \"The People vs. [Defendants\\' Names],\" as it seems to be a criminal case with one party being represented by the Attorney General (for the people). But without more context or an explicit mention of the case title, this is just an educated guess.', additional_kwargs={}, response_metadata={}),\n",
       "  HumanMessage(content='What happened in Nappa Valley?', additional_kwargs={}, response_metadata={}),\n",
       "  HumanMessage(content='Human: Answer the following question based only on the provided context. \\nIf you cannot answer please respond with \"I don\\'t know:\\n    <context>\\n    comes up on tbe petition of the defendants to be discharged from, the custody of the sheriff of the district of Sonoma, under a writ of habeas corpus heretofore issued by this court. The return of the sheriff shows that the petitioners are detained by him by virtue of an order of the judge of First Instance of the distinct of Sonoma, and that such order was made upon the return of a warrant of arrest against the defendants, charging them with the commission of various felonious acts. Accompanying the return of the sheriff is also to be found a large amount of testimony taken on the examination, going to show that several Indians in the Nappa Valley were shot on the 2Ith day of February last, their lodges burned, and a considerable quantity of wheat, barley, and other property destroyed, and tending to fix tbe perpetration of these acts upon tbe petitioners. It is claimed by the counsel for the accused : 1st.\\n\\nby the prisoner. *10 Where it appeared on the return to a writ of habeas corpus that there was reasonable ground to believe that the prisoners were guilty of burning certain Indian lodges in the Nappa Valley, and of killing several Indians, and perpetrating other outrages, they were, nevertheless, admitted to bail, on the grounds solely that the district courts had not as yet been organized, nor their terms fixed, nor the judges appointed, and that there was no secure place in which the prisoners could be kept until they could be brought to trial. It. seems, had not these reasons existed, the prisoners would have been remanded to the custody of the sheriff. The facts are sufficiently stated in the opinion of the court. The cause was argued by O. I).\\n    </context>\\n    Question: What happened in Nappa Valley?', additional_kwargs={}, response_metadata={}),\n",
       "  AIMessage(content=\" Based on the provided context, it appears that several Indian lodges were burned and several Indians were shot in Nappa Valley on February 21st. Additionally, a considerable quantity of wheat, barley, and other property were destroyed. These actions are attributed to the defendants in question. However, it's important to note that this is a summary based on the provided text and there might be more details not mentioned in the context.\", additional_kwargs={}, response_metadata={}),\n",
       "  HumanMessage(content='Who are the defendents?', additional_kwargs={}, response_metadata={}),\n",
       "  HumanMessage(content='Human: Answer the following question based only on the provided context. \\nIf you cannot answer please respond with \"I don\\'t know:\\n    <context>\\n    (Id. 43.) The same power is conferred upon a variety of officers in England and the United States by simply declaring them by statute to be conservators of the peace ; and the constitution of this state confers the same authority in the same terms, upon the justices of this court and the district judges. Being conservators of the peace, the judges of First *14 Instance may\\n\\nin positive terms as within the knowledge of the deponent, the commission of the offences charged therein, and to proceed upon information as to the names only of the persons who were guilty of the perpetration of them.\\n    </context>\\n    Question: Who are the defendents?', additional_kwargs={}, response_metadata={}),\n",
       "  AIMessage(content=\" Based on the provided context, it's not explicitly stated who the defendants are in this text. The focus is more on the authority of judges as conservators of the peace and their ability to act upon information about offenses committed by specific individuals. Without further context, I cannot identify the defendants mentioned in the text.\", additional_kwargs={}, response_metadata={}),\n",
       "  HumanMessage(content='What is mentioned about the digest of the mexican law?', additional_kwargs={}, response_metadata={}),\n",
       "  HumanMessage(content='Human: Answer the following question based only on the provided context. \\nIf you cannot answer please respond with \"I don\\'t know:\\n    <context>\\n    of sec. 2d, part 2d, Halleck’s *17 Translation anti Digest of Mexican Laws, it is declared, “ that in the trial of causes which exceed $100, but do not exceed $200, the judges shall take cognizance by means of a written process according to law, but without appeal, except the laws have been violated which regulate the mode of proceeding.” From which we infer that the courts of First Instance, so long as they comply with the ordinary rules of practice, and do not violate the laws regulating practice in their courts, have exclusive jurisdiction in all controversies where the matter in dispute shall not exceed $200, and shall exceed $100 ; and no court can review by appeal their judgments in such cases. Entertaining these views, we do not think it\\n\\nthe point under consideration together, they confer upon this court appellate jurisdiction over judgments rendered in the court of First Instance, in all cases where the court of Second Instance, under the Mexican system, would have had such jurisdiction. I think that the appeal should be entertained, and dissent from the conclusion to which the majority of the court have arrived.\\n    </context>\\n    Question: What is mentioned about the digest of the mexican law?', additional_kwargs={}, response_metadata={}),\n",
       "  AIMessage(content=' The provided context mentions the Digest of Mexican Laws by Halleck, specifically section 2d, part 2d. According to this text, in trials for causes that exceed $100 but do not exceed $200, judges shall take cognizance by means of a written process according to law, without appeal, except the laws have been violated which regulate the mode of proceeding. This implies that the courts of First Instance have exclusive jurisdiction in all controversies where the matter in dispute exceeds $100 and does not exceed $200, and no court can review by appeal their judgments in such cases. The text also suggests that this court has appellate jurisdiction over judgments rendered in the court of First Instance, in all cases where the court of Second Instance, under the Mexican system, would have had such jurisdiction.', additional_kwargs={}, response_metadata={}),\n",
       "  HumanMessage(content='What is the verdict in the Luther va Master and Owners of Ship Apollo case?', additional_kwargs={}, response_metadata={}),\n",
       "  HumanMessage(content='Human: Answer the following question based only on the provided context. \\nIf you cannot answer please respond with \"I don\\'t know:\\n    <context>\\n    Luther, respondent, vs. The Master and Owners of Ship Apollo, appellants. This court has no jurisdiction of an appeal from the court of First Instance, where the judgment appealed from is for less than the sum of two hundred dollars; and •where an appeal was brought from a judgment of $166 80, it was ordered that the appeal should be dismissed with costs. The facts are sufficiently stated in the opinion of the court. The cause was argued exjyarte, by Horace Hawes, for the appellants. By the Court, Hastings, Ch. J. This was an action instituted before the court of First Instance for the district of San Francisco, for the recovery of seaman\\'s wages, amounting to the sum of $166 *16 80, and judgment was rendered for the appellee in the sum of $100. The 4th sec.\\n\\nand the district judges. Being conservators of the peace, the judges of First *14 Instance may legally act in the apprehension and commitment of offenders against the law; and the proceedings before us are not invalid upon the ground of want of jurisdiction in the officer who made the commitment. There are in addition to the views already taken of the case, reasons which render a discharge of the prisoners improper.\\n    </context>\\n    Question: What is the verdict in the Luther va Master and Owners of Ship Apollo case?', additional_kwargs={}, response_metadata={}),\n",
       "  AIMessage(content=\" Based on the provided context, it's not possible to determine the verdict in the Luther v. Master and Owners of Ship Apollo case as that specific case is not mentioned in the text. The text discusses the jurisdiction of courts in general and the case being referred to is a different one about the authority of judges as conservators of the peace.\", additional_kwargs={}, response_metadata={}),\n",
       "  HumanMessage(content='What is the Luther case about?', additional_kwargs={}, response_metadata={}),\n",
       "  HumanMessage(content='Human: Answer the following question based only on the provided context. \\nIf you cannot answer please respond with \"I don\\'t know:\\n    <context>\\n    Luther, respondent, vs. The Master and Owners of Ship Apollo, appellants. This court has no jurisdiction of an appeal from the court of First Instance, where the judgment appealed from is for less than the sum of two hundred dollars; and •where an appeal was brought from a judgment of $166 80, it was ordered that the appeal should be dismissed with costs. The facts are sufficiently stated in the opinion of the court. The cause was argued exjyarte, by Horace Hawes, for the appellants. By the Court, Hastings, Ch. J. This was an action instituted before the court of First Instance for the district of San Francisco, for the recovery of seaman\\'s wages, amounting to the sum of $166 *16 80, and judgment was rendered for the appellee in the sum of $100. The 4th sec.\\n\\nand the district judges. Being conservators of the peace, the judges of First *14 Instance may legally act in the apprehension and commitment of offenders against the law; and the proceedings before us are not invalid upon the ground of want of jurisdiction in the officer who made the commitment. There are in addition to the views already taken of the case, reasons which render a discharge of the prisoners improper.\\n    </context>\\n    Question: What is the Luther case about?', additional_kwargs={}, response_metadata={}),\n",
       "  AIMessage(content=\" Based on the provided context, the Luther case appears to be a legal dispute related to seaman's wages. The case was instituted before the court of First Instance for the district of San Francisco and the judgment rendered was for $100, which was lower than the amount claimed by the respondent (Luther). However, without more context it is not possible to determine the specific details or the outcome of the case beyond this information.\", additional_kwargs={}, response_metadata={})]}"
      ]
     },
     "execution_count": 54,
     "metadata": {},
     "output_type": "execute_result"
    }
   ],
   "source": [
    "app.invoke({\"question\":\"What is the Luther case about?\"}, config)"
   ]
  },
  {
   "cell_type": "code",
   "execution_count": null,
   "metadata": {},
   "outputs": [],
   "source": []
  }
 ],
 "metadata": {
  "kernelspec": {
   "display_name": "Python 3.11",
   "language": "python",
   "name": "rag_exp"
  },
  "language_info": {
   "codemirror_mode": {
    "name": "ipython",
    "version": 3
   },
   "file_extension": ".py",
   "mimetype": "text/x-python",
   "name": "python",
   "nbconvert_exporter": "python",
   "pygments_lexer": "ipython3",
   "version": "3.11.13"
  }
 },
 "nbformat": 4,
 "nbformat_minor": 4
}
